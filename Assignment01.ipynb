{
  "cells": [
    {
      "cell_type": "markdown",
      "id": "b5f0c4db",
      "metadata": {
        "nbsimplegrader": {
          "config_key": "markdown.view-only",
          "editable": false,
          "label": "Markdown: View-Only",
          "respondable": false,
          "response": null,
          "runnable": false,
          "type": "markdown"
        }
      },
      "source": "# Assignment 1"
    },
    {
      "cell_type": "markdown",
      "id": "c26ac0a1",
      "metadata": {
        "nbsimplegrader": {
          "config_key": "markdown.view-only",
          "editable": false,
          "label": "Markdown: View-Only",
          "respondable": false,
          "response": null,
          "runnable": false,
          "type": "markdown"
        }
      },
      "source": "The aim of this assignment is to give you practice working with this Jupyter environment and writing Markdown.  \n\nThis exercise is also intended to start you thinking about what you might like to work on for a project.  (I will not hold you to any project ideas written here; you are welcome to change your mind later.)\n\n## Notes\n\n* There are many guides out there on how to use markdown syntax.  The following is one example you may find useful:\n  * [Markdown Cheatsheet](https://github.com/adam-p/markdown-here/wiki/Markdown-Cheatsheet)\n* In this assignment notebook, you will find that you are unable to alter the content of the cells that I have written -> this is on purpose.  However, you will be able to edit and run all response cells.\n* After writing your responses in markdown, execute the cells so that your markdown text gets rendered."
    },
    {
      "cell_type": "markdown",
      "id": "804da742",
      "metadata": {
        "nbsimplegrader": {
          "config_key": "markdown.view-only",
          "editable": false,
          "label": "Markdown: View-Only",
          "respondable": false,
          "response": null,
          "runnable": false,
          "type": "markdown"
        }
      },
      "source": "<div class=\"alert alert-info\">\n\n<b>Initial step:</b>\n\nOpen the cell below in edit mode (by double-clicking on it), look at how it is written, and then run it.  Make sure you understand how the text is marked up to get the header style, italics, bold, and a bulleted list.\n    \n</div>"
    },
    {
      "cell_type": "markdown",
      "id": "077299bc",
      "metadata": {
        "nbsimplegrader": {
          "config_key": "markdown.edit-and-run",
          "editable": true,
          "label": "Markdown: Edit-and-Run",
          "respondable": false,
          "response": null,
          "runnable": true,
          "type": "markdown"
        }
      },
      "source": "(double-click here to edit)\n\n# First example\n\nThis is one example of a *cell* that is written using **markdown** syntax.\n\nIt uses:\n* '#' for a header\n* '*' for italics\n* '**' for bold"
    },
    {
      "cell_type": "markdown",
      "id": "e3167151",
      "metadata": {
        "nbsimplegrader": {
          "config_key": "markdown.view-only",
          "editable": false,
          "label": "Markdown: View-Only",
          "respondable": false,
          "response": null,
          "runnable": false,
          "type": "markdown"
        }
      },
      "source": "<div class=\"alert alert-info\">\n\n<b>Personal Profile:</b>\n\nUse markdown in the cell below to write a personal profile.  \n    \nThis should include:\n1. your name, styled as an H1 header (see for example the above cheatsheet)\n2. your major in bold font\n3. your year in school in italics\n4. a description of why you are interested in the course, in normal font.\n\n</div>"
    },
    {
      "cell_type": "markdown",
      "id": "a5c86291",
      "metadata": {
        "nbsimplegrader": {
          "config_key": "markdown.edit-and-run",
          "editable": true,
          "label": "Markdown: Edit-and-Run",
          "respondable": false,
          "response": null,
          "runnable": true,
          "type": "markdown"
        }
      },
      "source": "(double-click here to edit)\n\n# Ju Young (Michelle) Rhee\n**Economics** <br>\n\n*Senior*\n<br>\n\nI hope to learn how to code in Python and use my technical, programming skills to uncover and analyze the humanities data that I am intersted in.\n \n"
    },
    {
      "cell_type": "markdown",
      "id": "8765db37",
      "metadata": {
        "nbsimplegrader": {
          "config_key": "markdown.view-only",
          "editable": false,
          "label": "Markdown: View-Only",
          "respondable": false,
          "response": null,
          "runnable": false,
          "type": "markdown"
        }
      },
      "source": "<div class=\"alert alert-info\">\n\n**Data and viz of interest**\n\n1. Find a journal or newspaper article that relates data science to a humanities topic that you are interested in.\n  * Post a link to the article in the next cell and comment on why it interests you.\n2. Find a data visualization that you would love to know how to make with Python\n  * Include the image in the next cell too and comment on why you like it."
    },
    {
      "cell_type": "markdown",
      "id": "60a3657f",
      "metadata": {
        "nbsimplegrader": {
          "config_key": "markdown.edit-and-run",
          "editable": true,
          "label": "Markdown: Edit-and-Run",
          "respondable": false,
          "response": null,
          "runnable": true,
          "type": "markdown"
        }
      },
      "source": "(double-click here to edit)\n\n<!DOCTYPE HTML>\n<html>\n\n<body>\n<p> 1. Link: https://finance.yahoo.com/news/us-real-estate-market-big-110000451.html </p> <br>\n<p> I am interested in learning more about the real estate market in 2023. Since this article discusses about how the experts are warning about the projection of the market, I would like to dig deeper and understand more about it. <br>\n\n<p> 2. <img src=\"https://content.fortune.com/wp-content/uploads/2022/08/EeDN6-how-regional-house-prices-are-expected-to-shift-in-2023-according-to-moody-s-analytics.png\"></p><br>\n<p> I like this data visualization because it shows which region in the country has shifted in the housing price in 2023, which I am interested in recreating.</p>\n\n</body>\n\n</html>\n\n\n"
    },
    {
      "cell_type": "markdown",
      "id": "08d8e201",
      "metadata": {
        "nbsimplegrader": {
          "config_key": "markdown.view-only",
          "editable": false,
          "label": "Markdown: View-Only",
          "respondable": false,
          "response": null,
          "runnable": false,
          "type": "markdown"
        }
      },
      "source": "<div class=\"alert alert-info\">\n\n<b>Ideas for data to investigate</b>\n\nIn the cell below:\n1. Write a bulleted list of 2 or 3 humanities topics of interest to you.\n2. Review the schedule on the syllabus, and write down the topic/activity/library/concept that most appeals to you, and why\n3. Do a quick search for data and/or articles related to those topics from #1 and #2, and write down a list of links to your search results.\n    \n</div>\n\n"
    },
    {
      "cell_type": "markdown",
      "id": "81400531",
      "metadata": {
        "nbsimplegrader": {
          "config_key": "markdown.edit-and-run",
          "editable": true,
          "label": "Markdown: Edit-and-Run",
          "respondable": false,
          "response": null,
          "runnable": true,
          "type": "markdown"
        }
      },
      "source": "1. Interesting Humanities Topics\n* Real Estate Market Prices\n* How to measure happiness\n* How to predict which region will be developed and grow in price,size,impact. \n\n2. Week 4: \"An illustrated introduction to API\"; <br> I am interested in learning about what API is. I have heard of the word so many times but never had the chance to understand the concept in depth. Through this class, I hope to learn about API and how to apply the technology to analyze the dataset that I am interested in unravelling. \n<br>\n\n3. Lists of articles\n* https://realestate.usnews.com/places/rankings/fastest-growing-places \n* https://worldhappiness.report/ed/2022/\n* https://en.climate-data.org/\n\n"
    },
    {
      "cell_type": "markdown",
      "id": "66a44ea0",
      "metadata": {
        "nbsimplegrader": {
          "config_key": "markdown.view-only",
          "editable": false,
          "label": "Markdown: View-Only",
          "respondable": false,
          "response": null,
          "runnable": false,
          "type": "markdown"
        }
      },
      "source": "<div class=\"alert alert-info\">\n\n<b>Ideas from curated datasets & project lists</b>\n\nReview the projects and datasets on the following two pages:\n* https://miriamposner.com/classes/dh201w21/final-project/datasets\n* https://archive.ics.uci.edu/ml/datasets.php\n\nMake a table in the cell below that includes columns for (1) the name of any dataset of interest, (2) a brief description of the data and how you might investigate it in a project, and (3) a link to the data.\n    \nThere is no restriction on number of datasets to include, but please include at least two."
    },
    {
      "cell_type": "markdown",
      "id": "7bd91c33",
      "metadata": {
        "nbsimplegrader": {
          "config_key": "markdown.edit-and-run",
          "editable": true,
          "label": "Markdown: Edit-and-Run",
          "respondable": false,
          "response": null,
          "runnable": true,
          "type": "markdown"
        }
      },
      "source": "(double-click here to edit)\n\n| Dataset        | Description/Utilization           | Link  |\n| ------------- |:-------------:| -----:|\n| \nReal estate valuation data set  | This is the market historical data set of the real estate valuation in Taiwan. I might use this to compare how a city can grow to how much New Taipei City developed over the years.  | https://archive.ics.uci.edu/ml/datasets/Real+estate+valuation+data+set |\n| Air Quality Data Set      | This dataset contains the air quality level of italian cities measured by a chemical multisensor device every hour. I might use this to determine how much air quality matters in the predicted growth of a city.      |   https://archive.ics.uci.edu/ml/datasets/Air+Quality |\n\n"
    },
    {
      "cell_type": "markdown",
      "id": "a8a6ab2a",
      "metadata": {
        "nbsimplegrader": {
          "config_key": "markdown.view-only",
          "editable": false,
          "label": "Markdown: View-Only",
          "respondable": false,
          "response": null,
          "runnable": false,
          "type": "markdown"
        }
      },
      "source": "<div class=\"alert alert-info\">\n\n<b>Submit</b>\n\nSubmit this assignment by:\n1. Saving your work\n2. Clicking on the Submit button at the top\n\n</div>"
    }
  ],
  "metadata": {
    "kernelspec": {
      "display_name": "Python 3 (ipykernel)",
      "language": "python",
      "name": "python3"
    },
    "language_info": {
      "codemirror_mode": {
        "name": "ipython",
        "version": 3
      },
      "file_extension": ".py",
      "mimetype": "text/x-python",
      "name": "python",
      "nbconvert_exporter": "python",
      "pygments_lexer": "ipython3",
      "version": "3.10.8"
    },
    "nbsimplegrader": {
      "publish_config": {
        "classes": [
          "DH140_23W_bwinjum"
        ],
        "options": {
          "include_submit": true,
          "lock_notebook": false
        },
        "tools": []
      }
    }
  },
  "nbformat": 4,
  "nbformat_minor": 5
}