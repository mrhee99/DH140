{
  "cells": [
    {
      "cell_type": "markdown",
      "id": "e8b4c3b5",
      "metadata": {},
      "source": "# Assignment 2"
    },
    {
      "cell_type": "markdown",
      "id": "0327c786",
      "metadata": {},
      "source": "The following assignment is intended to help you practice (potentially completely new) Python skills.\n\nIt's not intended to make you tear your hair out in consternation! If you want hints or guidance on the basics, please post in Slack."
    },
    {
      "cell_type": "markdown",
      "id": "206ae631",
      "metadata": {},
      "source": "## Python exercises"
    },
    {
      "cell_type": "markdown",
      "id": "c4662958",
      "metadata": {},
      "source": "Carry out the following instructions in the code cells beneath each instruction."
    },
    {
      "cell_type": "markdown",
      "id": "820d476f",
      "metadata": {},
      "source": "1. Do at least three mathematical calculations with `+`, `-`, `*`, `/`, and/or `%`."
    },
    {
      "cell_type": "code",
      "execution_count": 1,
      "id": "0dfb8677",
      "metadata": {
        "trusted": false
      },
      "outputs": [
        {
          "data": {
            "text/plain": "8"
          },
          "execution_count": 1,
          "metadata": {},
          "output_type": "execute_result"
        }
      ],
      "source": "3 + 5"
    },
    {
      "cell_type": "code",
      "execution_count": 2,
      "id": "7020b489",
      "metadata": {
        "trusted": false
      },
      "outputs": [
        {
          "data": {
            "text/plain": "-2"
          },
          "execution_count": 2,
          "metadata": {},
          "output_type": "execute_result"
        }
      ],
      "source": "3 - 5"
    },
    {
      "cell_type": "code",
      "execution_count": 3,
      "id": "2e882dba",
      "metadata": {
        "trusted": false
      },
      "outputs": [
        {
          "data": {
            "text/plain": "15"
          },
          "execution_count": 3,
          "metadata": {},
          "output_type": "execute_result"
        }
      ],
      "source": "3 * 5"
    },
    {
      "cell_type": "code",
      "execution_count": 4,
      "id": "19cee093",
      "metadata": {
        "trusted": false
      },
      "outputs": [
        {
          "data": {
            "text/plain": "0.6"
          },
          "execution_count": 4,
          "metadata": {},
          "output_type": "execute_result"
        }
      ],
      "source": "3 / 5"
    },
    {
      "cell_type": "code",
      "execution_count": 5,
      "id": "3f003c3c",
      "metadata": {
        "trusted": false
      },
      "outputs": [
        {
          "data": {
            "text/plain": "3"
          },
          "execution_count": 5,
          "metadata": {},
          "output_type": "execute_result"
        }
      ],
      "source": "3 % 5"
    },
    {
      "cell_type": "markdown",
      "id": "da529bd7",
      "metadata": {},
      "source": "1. Assign a number to the variable `a`,\n2. Use `a % 2` to determine whether a is odd or even,\n3. Use an `if` statement to print out either \"a is even\" or \"a is odd\" as appropriate."
    },
    {
      "cell_type": "code",
      "execution_count": 6,
      "id": "fcd2f994",
      "metadata": {
        "trusted": false
      },
      "outputs": [
        {
          "name": "stdout",
          "output_type": "stream",
          "text": "a is odd\n"
        }
      ],
      "source": "a = 15\nif a % 2 == 0:\n  print('a is even.')\nelse:\n  print('a is odd')"
    },
    {
      "cell_type": "markdown",
      "id": "987c9a09",
      "metadata": {},
      "source": "Set: \n\n`a = [1, 1, 2, 3, 5, 8, 13, 21, 34, 55, 89]`\n\nThen:\n1. print the list\n2. print the element at index 0\n3. print the element at index 5\n4. print the last element \n5. print the length\n  * you may find it useful to look at https://python.readthedocs.io/en/stable/library/functions.html, specifically `len()`\n6. print all the elements\n7. print all the elements less than 8\n8. print out the elements in reverse order\n  * look at https://python-reference.readthedocs.io/en/latest/docs/list, specifically `reverse`\n9. append the next fibonacci number and print out the new list\n  * look again at the docs, this time for `append`\n  * elements in the fibonacci sequence are equal to the sum of the previous two elements"
    },
    {
      "cell_type": "code",
      "execution_count": 7,
      "id": "120d083b",
      "metadata": {
        "trusted": false
      },
      "outputs": [],
      "source": "a = [1, 1, 2, 3, 5, 8, 13, 21, 34, 55, 89]"
    },
    {
      "cell_type": "code",
      "execution_count": 8,
      "id": "97eda1db",
      "metadata": {
        "trusted": false
      },
      "outputs": [
        {
          "name": "stdout",
          "output_type": "stream",
          "text": "[1, 1, 2, 3, 5, 8, 13, 21, 34, 55, 89]\n"
        }
      ],
      "source": "print(a)"
    },
    {
      "cell_type": "code",
      "execution_count": 9,
      "id": "9961b691",
      "metadata": {
        "trusted": false
      },
      "outputs": [
        {
          "name": "stdout",
          "output_type": "stream",
          "text": "1\n"
        }
      ],
      "source": "print(a[0])"
    },
    {
      "cell_type": "code",
      "execution_count": 10,
      "id": "49815901",
      "metadata": {
        "trusted": false
      },
      "outputs": [
        {
          "name": "stdout",
          "output_type": "stream",
          "text": "8\n"
        }
      ],
      "source": "print(a[5])"
    },
    {
      "cell_type": "code",
      "execution_count": 11,
      "id": "2f71a282",
      "metadata": {
        "trusted": false
      },
      "outputs": [
        {
          "name": "stdout",
          "output_type": "stream",
          "text": "89\n"
        }
      ],
      "source": "print(a[-1])"
    },
    {
      "cell_type": "code",
      "execution_count": 12,
      "id": "e2a8f053",
      "metadata": {
        "trusted": false
      },
      "outputs": [
        {
          "name": "stdout",
          "output_type": "stream",
          "text": "11\n"
        }
      ],
      "source": "print(len(a))"
    },
    {
      "cell_type": "code",
      "execution_count": 13,
      "id": "ddb177b2",
      "metadata": {
        "trusted": false
      },
      "outputs": [
        {
          "name": "stdout",
          "output_type": "stream",
          "text": "1\n1\n2\n3\n5\n8\n13\n21\n34\n55\n89\n"
        }
      ],
      "source": "for i in a:\n    print(i)"
    },
    {
      "cell_type": "code",
      "execution_count": 14,
      "id": "0c7a8d8e",
      "metadata": {
        "trusted": false
      },
      "outputs": [
        {
          "name": "stdout",
          "output_type": "stream",
          "text": "1\n1\n2\n3\n5\n"
        }
      ],
      "source": "for i in a:\n    if i < 8:\n        print(i)"
    },
    {
      "cell_type": "code",
      "execution_count": 15,
      "id": "43e16be2",
      "metadata": {
        "trusted": false
      },
      "outputs": [
        {
          "name": "stdout",
          "output_type": "stream",
          "text": "[89, 55, 34, 21, 13, 8, 5, 3, 2, 1, 1]\n"
        }
      ],
      "source": "a.reverse()\nprint(a)"
    },
    {
      "cell_type": "code",
      "execution_count": 16,
      "id": "594e7465",
      "metadata": {
        "trusted": false
      },
      "outputs": [],
      "source": "# reverse it again to get back in ascending order\na.reverse()"
    },
    {
      "cell_type": "code",
      "execution_count": 17,
      "id": "fb4598b0",
      "metadata": {
        "trusted": false
      },
      "outputs": [
        {
          "data": {
            "text/plain": "[1, 1, 2, 3, 5, 8, 13, 21, 34, 55, 89]"
          },
          "execution_count": 17,
          "metadata": {},
          "output_type": "execute_result"
        }
      ],
      "source": "a"
    },
    {
      "cell_type": "code",
      "execution_count": 18,
      "id": "521418e9",
      "metadata": {
        "trusted": false
      },
      "outputs": [
        {
          "name": "stdout",
          "output_type": "stream",
          "text": "[1, 1, 2, 3, 5, 8, 13, 21, 34, 55, 89, 144]\n"
        }
      ],
      "source": "a.append(a[-1] + a[-2])\nprint(a)"
    },
    {
      "cell_type": "markdown",
      "id": "c0c687c9",
      "metadata": {},
      "source": "Set:\n\n`a = [1, 1, 2, 3, 5, 8, 13, 21, 34, 55, 89]`\n\n`b = [1, 2, 3, 4, 5, 6, 7, 8, 9, 10, 11, 12, 13]`\n\nThen: \n\n1. Use Python to print out all the elements that are contained in both lists\n2. Use Python to print out the elements that are contained in either list `a` or list `b` but not both"
    },
    {
      "cell_type": "code",
      "execution_count": 19,
      "id": "62238a17",
      "metadata": {
        "trusted": false
      },
      "outputs": [],
      "source": "a = [1, 1, 2, 3, 5, 8, 13, 21, 34, 55, 89]\nb = [1, 2, 3, 4, 5, 6, 7, 8, 9, 10, 11, 12, 13]"
    },
    {
      "cell_type": "code",
      "execution_count": 20,
      "id": "5a0a2a48",
      "metadata": {
        "trusted": false
      },
      "outputs": [
        {
          "name": "stdout",
          "output_type": "stream",
          "text": "1\n1\n2\n3\n5\n8\n13\n21\n34\n55\n89\n1\n2\n3\n4\n5\n6\n7\n8\n9\n10\n11\n12\n13\n"
        }
      ],
      "source": "for i in a:\n  print(i)\nfor i in b:\n  print(i)"
    },
    {
      "cell_type": "code",
      "execution_count": 21,
      "id": "273be51a",
      "metadata": {
        "trusted": false
      },
      "outputs": [
        {
          "name": "stdout",
          "output_type": "stream",
          "text": "[1, 2, 3, 4, 5, 6, 7, 8, 9, 10, 11, 12, 13, 21, 34, 55, 89]\n"
        }
      ],
      "source": "# or....\ncombo_list = []\nfor i in a:\n    if i not in combo_list:\n        combo_list.append(i)\nfor i in b:\n    if i not in combo_list:\n        combo_list.append(i)\ncombo_list.sort()\nprint(combo_list)"
    },
    {
      "cell_type": "code",
      "execution_count": 22,
      "id": "d895ae8e",
      "metadata": {
        "trusted": false
      },
      "outputs": [
        {
          "name": "stdout",
          "output_type": "stream",
          "text": "[4, 6, 7, 9, 10, 11, 12, 21, 34, 55, 89]\n"
        }
      ],
      "source": "one_only_list = []\nfor i in a:\n    if i not in b:\n        one_only_list.append(i)\nfor i in b:\n    if i not in a:\n        one_only_list.append(i)\none_only_list.sort()\nprint(one_only_list)"
    },
    {
      "cell_type": "markdown",
      "id": "10ec278a",
      "metadata": {},
      "source": "Set:\n\n`a = {'January': 7, 'February': 8, 'March': 5, 'April': 5}`\n\nThen:\n\n1. Add a new item to the dictionary,\n2. Print an element from the dictionary,\n3. Print out the message \"\\<key> has \\<value> letters\" for every \\<key>:\\<value> pair\n\n"
    },
    {
      "cell_type": "code",
      "execution_count": 23,
      "id": "59d49038",
      "metadata": {
        "trusted": false
      },
      "outputs": [],
      "source": "a = {'January': 7, 'February': 8, 'March': 5, 'April': 5}"
    },
    {
      "cell_type": "code",
      "execution_count": 24,
      "id": "ff385205",
      "metadata": {
        "trusted": false
      },
      "outputs": [],
      "source": "a['May'] = 3"
    },
    {
      "cell_type": "code",
      "execution_count": 25,
      "id": "ca4d8e54",
      "metadata": {
        "trusted": false
      },
      "outputs": [
        {
          "name": "stdout",
          "output_type": "stream",
          "text": "7\n"
        }
      ],
      "source": "print(a['January'])"
    },
    {
      "cell_type": "code",
      "execution_count": 26,
      "id": "0141610a",
      "metadata": {
        "trusted": false
      },
      "outputs": [
        {
          "name": "stdout",
          "output_type": "stream",
          "text": "January has 7 letters\nFebruary has 8 letters\nMarch has 5 letters\nApril has 5 letters\nMay has 3 letters\n"
        }
      ],
      "source": "for i in a:\n    print(i + ' has ' + str(a[i]) + ' letters')"
    },
    {
      "cell_type": "markdown",
      "id": "b4f3ae3d",
      "metadata": {},
      "source": "1. Write a function that takes as input a list of numbers and prints a new list of only the first and last elements of the given list.\n2. Execute it with several examples."
    },
    {
      "cell_type": "code",
      "execution_count": 27,
      "id": "94a3397e",
      "metadata": {
        "trusted": false
      },
      "outputs": [],
      "source": "def firstlast(a):\n  newlist = [a[0], a[-1]]\n  print(newlist)"
    },
    {
      "cell_type": "code",
      "execution_count": 28,
      "id": "149d1ca0",
      "metadata": {
        "trusted": false
      },
      "outputs": [
        {
          "name": "stdout",
          "output_type": "stream",
          "text": "[1, 89]\n"
        }
      ],
      "source": "firstlast([1, 1, 2, 3, 5, 8, 13, 21, 34, 55, 89])"
    },
    {
      "cell_type": "code",
      "execution_count": 29,
      "id": "0d35cfbc",
      "metadata": {
        "trusted": false
      },
      "outputs": [
        {
          "name": "stdout",
          "output_type": "stream",
          "text": "[1, 13]\n"
        }
      ],
      "source": "firstlast([1, 2, 3, 4, 5, 6, 7, 8, 9, 10, 11, 12, 13])"
    },
    {
      "cell_type": "code",
      "execution_count": 30,
      "id": "98b57417",
      "metadata": {
        "trusted": false
      },
      "outputs": [
        {
          "name": "stdout",
          "output_type": "stream",
          "text": "[13, -1]\n"
        }
      ],
      "source": "firstlast([13,0,13,-1])"
    },
    {
      "cell_type": "code",
      "execution_count": 31,
      "id": "a34312cf",
      "metadata": {
        "trusted": false
      },
      "outputs": [
        {
          "name": "stdout",
          "output_type": "stream",
          "text": "{'A': 1, 'computer': 1, 'program': 1, 'is': 1, 'said': 1, 'to': 2, 'learn': 1, 'from': 1, 'experience': 2, 'E': 1, 'with': 2, 'respect': 1, 'some': 1, 'class': 1, 'of': 1, 'tasks': 2, 'T': 2, 'and': 1, 'performance': 2, 'measure': 1, 'P': 2, 'if': 1, 'its': 1, 'at': 1, 'in': 1, 'as': 1, 'measured': 1, 'by': 1, 'improves': 1, 'E.': 1}\n"
        }
      ],
      "source": "# Execute this cell and look at its output\n\nml_sentence = '''\nA computer program is said to learn \nfrom experience E with respect to some class of tasks T \nand performance measure P if its performance at tasks in T \nas measured by P improves with experience E.\n'''\n\nml_sentence_words = {}\nfor i in ml_sentence.split():\n    if i in ml_sentence_words.keys():\n        ml_sentence_words[i] += 1\n    else:\n        ml_sentence_words[i] = 1\nprint(ml_sentence_words)"
    },
    {
      "cell_type": "markdown",
      "id": "4d522ed6",
      "metadata": {},
      "source": "[Edit this markdown cell to write answers to the following.  You may use the cell immediately beneath this one to test code if you want.]\n\n* In the cell above, what does `ml_sentence.split()` do?\n  * `ml_sentence.split()` creates a Python list whose individual elements are the words of the sentence (or more specifically, whose elements consist of the character sequences in the sentence that are separated by white-space)\n\n* What keys are added to `ml_sentence_words`?\n  * `ml_sentence_words` has keys corresponding to the continuous character sequences of the sentence that are separated by white-space.\n\n* What values are added to `ml_sentence_words`?\n  * `ml_sentence_words` has values that correspond to the number of times a given key appears in `ml_sentence`.\n"
    },
    {
      "cell_type": "code",
      "execution_count": 32,
      "id": "bae4784a",
      "metadata": {
        "trusted": false
      },
      "outputs": [],
      "source": "# This cell is for testing code\n"
    },
    {
      "cell_type": "code",
      "execution_count": 33,
      "id": "cf4ed1b9",
      "metadata": {
        "trusted": false
      },
      "outputs": [
        {
          "name": "stderr",
          "output_type": "stream",
          "text": "[nltk_data] Downloading package punkt to /home/jovyan/nltk_data...\n[nltk_data]   Package punkt is already up-to-date!\n"
        },
        {
          "name": "stdout",
          "output_type": "stream",
          "text": "['ï', '»', '¿the', 'project', 'gutenberg', 'ebook', 'of', 'macbeth', ',', 'by']\n"
        }
      ],
      "source": "# Time to roll up our sleeves and make a similar dictionary for all the words in Macbeth.\n\n# Execute this cell\n# (You will not be able to edit it, but you should see output)\n\n# Here we import libraries that can grab data from the web (via requests) and form a list of words using NLTK.\nimport requests\nfrom nltk.tokenize import word_tokenize\nimport nltk\nnltk.download('punkt')\n\n# Here we get the text of Macbeth from Project Gutenberg (https://www.gutenberg.org/) \n# and \"tokenize\" the text (split it up into words)\ntarget_url = \"https://www.gutenberg.org/files/1533/1533-0.txt\"\nresponse = requests.get(target_url)\ntext_string = response.text\ntext_string = text_string.lower()\ntext_words = word_tokenize(text_string)\n\n# Here we print the first 10 words\nprint(text_words[0:10])"
    },
    {
      "cell_type": "code",
      "execution_count": 34,
      "id": "81a1c857",
      "metadata": {
        "trusted": false
      },
      "outputs": [
        {
          "name": "stdout",
          "output_type": "stream",
          "text": "{'ï': 1, '»': 1, '¿the': 1, 'project': 89, 'gutenberg': 32, 'ebook': 13, 'of': 482, 'macbeth': 286, ',': 1865, 'by': 77, 'william': 3, 'shakespeare': 4, 'this': 149, 'is': 202, 'for': 133, 'the': 914, 'use': 18, 'anyone': 6, 'anywhere': 2, 'in': 290, 'united': 15, 'states': 19, 'and': 636, 'most': 30, 'other': 31, 'parts': 2, 'world': 7, 'at': 66, 'no': 77, 'cost': 3, 'with': 206, 'almost': 10, 'restrictions': 2, 'whatsoever': 2, '.': 1816, 'you': 276, 'may': 45, 'copy': 12, 'it': 167, 'give': 26, 'away': 13, 'or': 116, 're-use': 2, 'under': 13, 'terms': 23, 'license': 17, 'included': 3, 'online': 4, 'www.gutenberg.org': 5, 'if': 63, 'are': 97, 'not': 215, 'located': 7, 'will': 83, 'have': 130, 'to': 462, 'check': 5, 'laws': 10, 'country': 14, 'where': 39, 'before': 29, 'using': 7, 'title': 6, ':': 208, 'author': 1, 'release': 1, 'date': 3, 'november': 1, '1998': 1, '[': 104, '#': 1, '1533': 1, ']': 104, 'recently': 1, 'updated': 2, 'april': 1, '25': 1, '2021': 1, 'language': 1, 'english': 9, 'character': 1, 'set': 16, 'encoding': 1, 'utf-8': 1, 'produced': 2, 'pg': 2, 'team': 2, 'a': 329, 'about': 21, 'twenty': 4, 'volunteers': 6, '*': 26, 'start': 6, 'cover': 1, 'contents': 1, 'act': 15, 'i': 305, 'scene': 57, 'i.': 13, 'an': 41, 'open': 5, 'place': 13, 'ii': 12, 'camp': 2, 'near': 12, 'forres': 9, 'iii': 12, 'heath': 6, 'iv': 10, 'room': 18, 'palace': 17, 'v.': 6, 'inverness': 5, 'macbethâ\\x80\\x99s': 5, 'castle': 25, 'vi': 6, 'same': 24, 'vii': 4, 'lobby': 2, 'court': 6, 'within': 21, 'without': 24, 'another': 12, 'park': 2, 'lawn': 2, 'gate': 6, 'leading': 2, 'state': 15, 'dark': 7, 'cave': 2, 'middle': 2, 'cauldron': 10, 'boiling': 2, 'fife': 6, 'macduffâ\\x80\\x99s': 2, 'england': 11, 'kingâ\\x80\\x99s': 6, 'v': 2, 'dunsinane': 18, 'wood': 13, 'view': 2, 'plain': 6, 'part': 13, 'viii': 2, 'field': 4, 'dramatis': 1, 'personã¦': 1, 'duncan': 35, 'king': 33, 'scotland': 19, 'malcolm': 58, 'his': 150, 'son': 30, 'donalbain': 13, 'general': 10, 'army': 3, 'banquo': 67, 'macduff': 109, 'nobleman': 6, 'lennox': 34, 'ross': 53, 'menteith': 8, 'angus': 11, 'caithness': 6, 'fleance': 16, 'siward': 27, 'earl': 1, 'northumberland': 2, 'forces': 1, 'young': 13, 'seyton': 12, 'officer': 1, 'attending': 3, 'on': 72, 'boy': 4, 'doctor': 29, 'scottish': 1, 'soldier': 9, 'porter': 8, 'old': 18, 'man': 35, 'lady': 97, 'gentlewoman': 12, 'hecate': 6, 'three': 13, 'witches': 6, 'lords': 8, 'gentlemen': 4, 'officers': 2, 'soldiers': 10, 'murderers': 7, 'attendants': 7, 'messengers': 1, 'ghost': 3, 'several': 4, 'apparitions': 1, 'end': 5, 'fourth': 2, ';': 291, 'through': 9, 'rest': 10, 'play': 5, 'chiefly': 1, 'thunder': 6, 'lightning': 2, 'enter': 72, 'first': 50, 'witch': 52, 'when': 41, 'shall': 69, 'we': 96, 'meet': 9, 'again': 20, '?': 239, 'rain': 2, 'second': 27, 'hurlyburlyâ\\x80\\x99s': 1, 'done': 35, 'battleâ\\x80\\x99s': 1, 'lost': 6, 'won': 2, 'third': 20, 'that': 243, 'be': 157, 'ere': 12, 'sun': 4, 'upon': 61, 'there': 41, 'come': 53, 'graymalkin': 1, '!': 213, 'paddock': 1, 'calls': 3, 'anon': 6, 'all': 115, 'fair': 6, 'foul': 5, 'hover': 1, 'fog': 1, 'filthy': 2, 'air': 14, '_exeunt._': 19, 'alarum': 3, 'meeting': 5, 'bleeding': 2, 'captain': 2, 'what': 99, 'bloody': 15, 'he': 119, 'can': 58, 'report': 9, 'as': 100, 'seemeth': 1, 'plight': 1, 'revolt': 2, 'newest': 3, 'sergeant': 1, 'who': 44, 'like': 40, 'good': 52, 'hardy': 1, 'fought': 2, 'â\\x80\\x99gainst': 4, 'my': 190, 'captivity.â\\x80\\x94hail': 1, 'brave': 2, 'friend': 5, 'say': 38, 'knowledge': 3, 'broil': 1, 'thou': 88, 'didst': 3, 'leave': 12, 'doubtful': 2, 'stood': 4, 'two': 11, 'spent': 2, 'swimmers': 1, 'do': 99, 'cling': 2, 'together': 6, 'choke': 1, 'their': 61, 'art': 17, 'merciless': 1, 'macdonwald': 1, '(': 31, 'worthy': 17, 'rebel': 2, 'multiplying': 1, 'villainies': 1, 'nature': 20, 'swarm': 1, 'him': 90, ')': 31, 'from': 71, 'western': 1, 'isles': 1, 'kerns': 3, 'gallowglasses': 1, 'supplied': 1, 'fortune': 7, 'damned': 3, 'quarrel': 2, 'smiling': 2, 'showâ\\x80\\x99d': 2, 'rebelâ\\x80\\x99s': 1, 'whore': 1, 'but': 121, 'allâ\\x80\\x99s': 4, 'too': 24, 'weak': 2, 'well': 34, 'deserves': 2, 'name': 15, 'disdaining': 1, 'brandishâ\\x80\\x99d': 2, 'steel': 2, 'which': 87, 'smokâ\\x80\\x99d': 1, 'execution': 3, 'valourâ\\x80\\x99s': 1, 'minion': 1, 'carvâ\\x80\\x99d': 1, 'out': 26, 'passage': 2, 'till': 20, 'facâ\\x80\\x99d': 1, 'slave': 3, 'neâ\\x80\\x99er': 3, 'shook': 1, 'hands': 12, 'nor': 24, 'bade': 3, 'farewell': 2, 'unseamâ\\x80\\x99d': 1, 'nave': 1, 'chops': 1, 'fixâ\\x80\\x99d': 1, 'head': 10, 'our': 123, 'battlements': 2, 'o': 17, 'valiant': 4, 'cousin': 6, 'gentleman': 3, 'whence': 6, 'â\\x80\\x99gins': 1, 'reflection': 1, 'shipwracking': 1, 'storms': 1, 'direful': 1, 'thunders': 1, 'break': 4, 'so': 97, 'spring': 2, 'comfort': 5, 'seemâ\\x80\\x99d': 3, 'discomfort': 2, 'swells': 1, 'mark': 4, 'sooner': 2, 'justice': 3, 'had': 33, 'valour': 4, 'armâ\\x80\\x99d': 2, 'compellâ\\x80\\x99d': 1, 'these': 26, 'skipping': 1, 'trust': 4, 'heels': 2, 'norweyan': 3, 'lord': 38, 'surveying': 1, 'vantage': 3, 'furbishâ\\x80\\x99d': 1, 'arms': 2, 'new': 15, 'supplies': 1, 'men': 16, 'began': 3, 'fresh': 1, 'assault': 1, 'dismayâ\\x80\\x99d': 1, 'captains': 1, 'yes': 2, 'sparrows': 1, 'eagles': 1, 'hare': 1, 'lion': 1, 'sooth': 2, 'must': 45, 'they': 69, 'were': 39, 'cannons': 1, 'overchargâ\\x80\\x99d': 1, 'double': 11, 'cracks': 1, 'doubly': 1, 'redoubled': 1, 'strokes': 2, 'foe': 1, 'except': 6, 'meant': 1, 'bathe': 1, 'reeking': 1, 'wounds': 3, 'memorize': 1, 'golgotha': 1, 'tellâ\\x80\\x94': 1, 'am': 30, 'faint': 1, 'gashes': 3, 'cry': 9, 'help': 9, 'thy': 52, 'words': 10, 'become': 4, 'thee': 60, 'smack': 1, 'honour': 10, 'both.â\\x80\\x94go': 1, 'get': 8, 'surgeons': 1, '_exit': 13, 'attended._': 1, 'comes': 12, 'here': 34, 'thane': 24, 'haste': 3, 'looks': 2, 'eyes': 10, 'should': 43, 'look': 24, 'seems': 5, 'speak': 29, 'things': 24, 'strange': 16, 'god': 12, 'save': 1, 'camâ\\x80\\x99st': 1, 'great': 31, 'banners': 2, 'flout': 1, 'sky': 1, 'fan': 1, 'people': 7, 'cold': 5, 'norway': 2, 'himself': 8, 'terrible': 5, 'numbers': 2, 'assisted': 1, 'disloyal': 1, 'traitor': 5, 'cawdor': 20, 'dismal': 3, 'conflict': 1, 'bellonaâ\\x80\\x99s': 1, 'bridegroom': 1, 'lappâ\\x80\\x99d': 1, 'proof': 1, 'confronted': 1, 'self-comparisons': 1, 'point': 5, 'against': 15, 'rebellious': 2, 'arm': 3, 'curbing': 1, 'lavish': 1, 'spirit': 3, 'conclude': 1, 'victory': 1, 'fell': 8, 'us': 54, 'happiness': 1, 'now': 51, 'sweno': 1, 'norwaysâ\\x80\\x99': 1, 'craves': 1, 'composition': 1, 'would': 47, 'deign': 1, 'burial': 1, 'disbursed': 1, 'saint': 1, 'colmeâ\\x80\\x99s': 1, 'inch': 1, 'ten': 5, 'thousand': 3, 'dollars': 1, 'more': 52, 'deceive': 1, 'bosom': 4, 'interest': 1, 'go': 25, 'pronounce': 4, 'present': 7, 'death': 20, 'former': 4, 'greet': 2, 'iâ\\x80\\x99ll': 32, 'see': 34, 'hath': 51, 'noble': 12, 'hast': 6, 'been': 22, 'sister': 2, 'killing': 1, 'swine': 1, 'sailorâ\\x80\\x99s': 1, 'wife': 13, 'chestnuts': 1, 'her': 43, 'lap': 1, 'mounchâ\\x80\\x99d': 3, 'â\\x80\\x9cgive': 1, 'me': 108, 'â\\x80\\x9d': 17, 'quoth': 1, 'â\\x80\\x9caroint': 1, 'rump-fed': 1, 'ronyon': 1, 'cries': 4, 'husbandâ\\x80\\x99s': 1, 'aleppo': 1, 'gone': 9, 'master': 5, 'oâ\\x80\\x99': 15, 'thâ\\x80\\x99': 49, '_tiger': 1, '_': 1, 'sieve': 1, 'thither': 5, 'sail': 1, 'rat': 1, 'tail': 1, 'wind': 3, 'thâ\\x80\\x99art': 1, 'kind': 5, 'myself': 11, 'very': 12, 'ports': 1, 'blow': 3, 'quarters': 1, 'know': 34, 'iâ\\x80\\x99': 17, 'shipmanâ\\x80\\x99s': 1, 'card': 2, 'drain': 1, 'dry': 1, 'hay': 1, 'sleep': 24, 'neither': 3, 'night': 23, 'day': 18, 'hang': 8, 'pent-house': 1, 'lid': 1, 'live': 8, 'forbid': 2, 'weary': 2, 'sevâ\\x80\\x99n-nights': 1, 'nine': 4, 'times': 3, 'dwindle': 1, 'peak': 1, 'pine': 2, 'though': 17, 'bark': 1, 'yet': 56, 'tempest-tost': 1, 'show': 18, 'pilotâ\\x80\\x99s': 1, 'thumb': 1, 'wrackâ\\x80\\x99d': 1, 'homeward': 1, 'did': 40, '_drum': 1, 'within._': 6, 'drum': 7, 'doth': 6, 'weird': 6, 'sisters': 7, 'hand': 22, 'posters': 1, 'sea': 2, 'land': 3, 'thus': 12, 'thrice': 5, 'thine': 10, 'mine': 26, 'make': 41, 'up': 29, 'peace': 10, 'â\\x80\\x94the': 2, 'charmâ\\x80\\x99s': 1, 'wound': 2, 'seen': 6, 'how': 37, 'far': 5, 'isâ\\x80\\x99t': 8, 'callâ\\x80\\x99d': 5, 'â\\x80\\x94what': 4, 'witherâ\\x80\\x99d': 2, 'wild': 3, 'attire': 1, 'inhabitants': 1, 'earth': 7, 'onâ\\x80\\x99t': 4, 'â\\x80\\x94live': 1, 'aught': 1, 'question': 4, 'seem': 7, 'understand': 2, 'each': 14, 'once': 11, 'choppy': 1, 'finger': 2, 'laying': 1, 'skinny': 1, 'lips': 3, 'women': 5, 'your': 131, 'beards': 1, 'interpret': 2, 'hail': 14, 'glamis': 7, 'shalt': 7, 'hereafter': 4, 'sir': 28, 'why': 32, 'fear': 33, 'sound': 5, 'â\\x80\\x94iâ\\x80\\x99': 1, 'truth': 8, 'ye': 3, 'fantastical': 2, 'indeed': 5, 'outwardly': 1, 'partner': 2, 'grace': 10, 'prediction': 1, 'having': 3, 'royal': 9, 'hope': 10, 'rapt': 3, 'withal': 5, 'into': 12, 'seeds': 1, 'time': 46, 'grain': 1, 'grow': 2, 'then': 33, 'beg': 2, 'favours': 1, 'hate': 2, 'lesser': 2, 'than': 32, 'greater': 3, 'happy': 3, 'much': 13, 'happier': 1, 'kings': 10, 'none': 13, 'stay': 5, 'imperfect': 1, 'speakers': 1, 'tell': 9, 'sinelâ\\x80\\x99s': 1, 'lives': 9, 'prosperous': 2, 'stands': 5, 'prospect': 1, 'belief': 2, 'owe': 4, 'intelligence': 1, 'blasted': 1, 'stop': 2, 'way': 20, 'such': 30, 'prophetic': 1, 'greeting': 1, 'â\\x80\\x94speak': 1, 'charge': 9, '_witches': 1, 'vanish._': 2, 'bubbles': 1, 'water': 4, 'has': 21, 'them': 49, 'whither': 3, 'vanishâ\\x80\\x99d': 1, 'corporal': 2, 'melted': 1, 'breath': 7, 'stayâ\\x80\\x99d': 1, 'eaten': 2, 'insane': 1, 'root': 5, 'takes': 6, 'reason': 5, 'prisoner': 1, 'children': 6, 'went': 4, 'selfsame': 2, 'tune': 2, 'whoâ\\x80\\x99s': 5, 'happily': 1, 'receivâ\\x80\\x99d': 3, 'news': 4, 'success': 4, 'reads': 1, 'personal': 1, 'venture': 1, 'rebelsâ\\x80\\x99': 1, 'fight': 11, 'wonders': 1, 'praises': 2, 'contend': 3, 'silencâ\\x80\\x99d': 1, 'viewing': 2, 'oâ\\x80\\x99er': 4, 'finds': 2, 'stout': 1, 'ranks': 1, 'nothing': 16, 'afeard': 3, 'thyself': 5, 'images': 1, 'thick': 4, 'tale': 2, 'came': 6, 'post': 2, 'everyone': 2, 'bear': 10, 'kingdomâ\\x80\\x99s': 2, 'defence': 2, 'pourâ\\x80\\x99d': 1, 'down': 15, 'sent': 5, 'thanks': 9, 'only': 14, 'herald': 1, 'sight': 9, 'pay': 5, 'earnest': 2, 'call': 10, 'addition': 3, 'devil': 7, 'true': 8, 'dress': 1, 'borrowâ\\x80\\x99d': 1, 'robes': 2, 'was': 47, 'heavy': 4, 'judgement': 2, 'bears': 2, 'life': 19, 'lose': 3, 'whether': 3, 'combinâ\\x80\\x99d': 1, 'those': 25, 'line': 4, 'hidden': 1, 'both': 20, 'labourâ\\x80\\x99d': 1, 'countryâ\\x80\\x99s': 4, 'wrack': 2, 'treasons': 2, 'capital': 1, 'confessâ\\x80\\x99d': 2, 'provâ\\x80\\x99d': 1, 'overthrown': 1, '_aside._': 6, 'greatest': 2, 'behind': 1, '_to': 2, 'angus._': 1, 'pains': 4, 'banquo._': 3, 'gave': 2, 'promisâ\\x80\\x99d': 4, 'less': 8, 'trusted': 2, 'home': 5, 'might': 7, 'enkindle': 1, 'unto': 3, 'crown': 6, 'besides': 3, 'â\\x80\\x99tis': 36, 'oftentimes': 1, 'win': 4, 'harm': 5, 'instruments': 3, 'darkness': 2, 'truths': 2, 'honest': 5, 'trifles': 1, 'betrayâ\\x80\\x99s': 1, 'deepest': 1, 'consequence.â\\x80\\x94': 1, 'cousins': 3, 'word': 7, 'pray': 12, 'told': 2, 'prologues': 1, 'swelling': 1, 'imperial': 2, 'theme.â\\x80\\x94i': 1, 'thank': 4, 'gentlemen.â\\x80\\x94': 1, 'supernatural': 1, 'soliciting': 1, 'ill': 2, 'given': 9, 'commencing': 1, 'yield': 4, 'suggestion': 1, 'whose': 14, 'horrid': 3, 'image': 2, 'unfix': 2, 'hair': 3, 'seated': 1, 'heart': 22, 'knock': 11, 'ribs': 1, 'fears': 8, 'horrible': 3, 'imaginings': 1, 'thought': 14, 'murder': 6, 'shakes': 1, 'single': 3, 'function': 1, 'smotherâ\\x80\\x99d': 1, 'surmise': 1, 'partnerâ\\x80\\x99s': 1, 'chance': 5, 'stir': 2, 'honours': 4, 'garments': 1, 'cleave': 2, 'mould': 1, 'aid': 3, 'hour': 10, 'runs': 2, 'roughest': 1, 'leisure': 3, 'favour': 2, 'dull': 1, 'brain': 4, 'wrought': 4, 'forgotten': 2, 'registerâ\\x80\\x99d': 1, 'every': 12, 'turn': 3, 'leaf': 2, 'read': 6, 'them.â\\x80\\x94let': 1, 'toward': 5, 'king.â\\x80\\x94': 1, 'think': 13, 'chancâ\\x80\\x99d': 1, 'interim': 1, 'weighâ\\x80\\x99d': 2, 'let': 33, 'free': 10, 'hearts': 3, 'gladly': 1, 'enough.â\\x80\\x94come': 1, 'friends': 10, 'flourish': 2, 'commission': 1, 'returnâ\\x80\\x99d': 1, 'liege': 3, 'back': 6, 'spoke': 4, 'one': 30, 'saw': 5, 'die': 5, 'frankly': 1, 'implorâ\\x80\\x99d': 1, 'highnessâ\\x80\\x99': 3, 'pardon': 2, 'forth': 16, 'deep': 6, 'repentance': 1, 'became': 2, 'leaving': 1, 'died': 7, 'studied': 1, 'throw': 6, 'dearest': 5, 'thing': 5, 'owâ\\x80\\x99d': 2, 'â\\x80\\x99twere': 4, 'careless': 1, 'trifle': 1, 'thereâ\\x80\\x99s': 12, 'find': 11, 'mindâ\\x80\\x99s': 1, 'construction': 1, 'face': 10, 'whom': 12, 'built': 1, 'absolute': 3, 'worthiest': 1, 'sin': 2, 'ingratitude': 1, 'even': 13, 'swiftest': 1, 'wing': 3, 'recompense': 1, 'slow': 2, 'overtake': 1, 'hadst': 1, 'deservâ\\x80\\x99d': 2, 'proportion': 1, 'payment': 1, 'left': 6, 'due': 4, 'service': 5, 'loyalty': 1, 'doing': 2, 'pays': 1, 'itself': 9, 'receive': 8, 'duties': 5, 'throne': 4, 'servants': 5, 'everything': 2, 'safe': 5, 'love': 19, 'welcome': 11, 'hither': 5, 'begun': 2, 'plant': 2, 'labour': 4, 'full': 21, 'growing.â\\x80\\x94noble': 1, 'known': 10, 'infold': 1, 'hold': 10, 'harvest': 1, 'own': 17, 'plenteous': 1, 'joys': 1, 'wanton': 1, 'fulness': 1, 'seek': 3, 'hide': 4, 'themselves': 6, 'drops': 1, 'sorrow.â\\x80\\x94sons': 1, 'kinsmen': 2, 'thanes': 6, 'places': 1, 'nearest': 2, 'establish': 1, 'estate': 2, 'eldest': 1, 'prince': 2, 'cumberland': 2, 'unaccompanied': 1, 'invest': 1, 'signs': 1, 'nobleness': 1, 'stars': 2, 'shine': 3, 'deservers.â\\x80\\x94from': 1, 'hence': 11, 'bind': 1, 'further': 10, 'usâ\\x80\\x99d': 2, 'harbinger': 1, 'joyful': 2, 'hearing': 2, 'approach': 5, 'humbly': 1, 'take': 17, 'â\\x80\\x94that': 1, 'step': 1, 'fall': 6, 'else': 11, 'oâ\\x80\\x99erleap': 1, 'lies': 7, 'fires': 1, 'light': 8, 'black': 7, 'desires': 1, 'eye': 11, 'wink': 1, '_exit._': 11, 'commendations': 1, 'fed': 1, 'banquet': 2, 'letâ\\x80\\x99s': 7, 'after': 6, 'care': 5, 'bid': 7, 'peerless': 1, 'kinsman': 2, '_flourish': 2, 'exeunt._': 2, 'reading': 2, 'letter': 1, 'â\\x80\\x9cthey': 2, 'met': 4, 'learned': 1, 'perfectâ\\x80\\x99st': 1, 'mortal': 6, 'burned': 1, 'desire': 7, 'made': 13, 'vanished': 1, 'whiles': 3, 'wonder': 2, 'missives': 1, 'all-hailed': 1, 'â\\x80\\x98thane': 1, 'cawdorâ\\x80\\x99': 1, 'saluted': 1, 'referred': 1, 'coming': 6, 'â\\x80\\x98hail': 1, 'â\\x80\\x99': 1, 'deliver': 1, 'greatness': 3, 'mightâ\\x80\\x99st': 1, 'dues': 1, 'rejoicing': 1, 'being': 9, 'ignorant': 2, 'lay': 5, 'farewell.â\\x80\\x9d': 1, 'milk': 3, 'human': 1, 'kindness': 1, 'catch': 3, 'wouldst': 6, 'ambition': 3, 'illness': 1, 'attend': 5, 'highly': 2, 'holily': 2, 'false': 9, 'wrongly': 1, 'thouâ\\x80\\x99dst': 3, 'â\\x80\\x9cthus': 2, 'rather': 8, 'dost': 3, 'wishest': 1, 'undone': 2, 'hie': 2, 'pour': 4, 'spirits': 5, 'ear': 5, 'chastise': 1, 'tongue': 9, 'impedes': 1, 'golden': 4, 'round': 6, 'fate': 6, 'metaphysical': 1, 'crownâ\\x80\\x99d': 2, 'messenger': 10, 'tidings': 2, 'tonight': 10, 'thouâ\\x80\\x99rt': 1, 'mad': 3, 'wereâ\\x80\\x99t': 1, 'informâ\\x80\\x99d': 1, 'preparation': 2, 'please': 9, 'fellows': 2, 'speed': 1, 'dead': 14, 'scarcely': 2, 'message': 2, 'tending': 1, 'brings': 1, 'messenger._': 1, 'raven': 1, 'hoarse': 1, 'croaks': 1, 'fatal': 4, 'entrance': 2, 'tend': 1, 'thoughts': 10, 'unsex': 1, 'fill': 5, 'toe': 2, 'top-full': 1, 'direst': 1, 'cruelty': 2, 'blood': 22, 'access': 11, 'remorse': 1, 'compunctious': 1, 'visitings': 1, 'shake': 7, 'purpose': 7, 'keep': 14, 'between': 2, 'effect': 1, 'womanâ\\x80\\x99s': 3, 'breasts': 1, 'gall': 2, 'murdâ\\x80\\x99ring': 1, 'ministers': 2, 'wherever': 1, 'sightless': 2, 'substances': 1, 'wait': 3, 'natureâ\\x80\\x99s': 4, 'mischief': 1, 'pall': 1, 'dunnest': 1, 'smoke': 1, 'hell': 8, 'keen': 2, 'knife': 2, 'makes': 7, 'heaven': 15, 'peep': 1, 'blanket': 1, 'â\\x80\\x9chold': 2, 'all-hail': 1, 'letters': 1, 'transported': 1, 'beyond': 2, 'feel': 4, 'future': 4, 'instant': 2, 'goes': 7, 'tomorrow': 8, 'purposes': 1, 'never': 13, 'morrow': 3, 'book': 1, 'matters': 1, 'beguile': 1, 'innocent': 5, 'flower': 2, 'serpent': 2, 'underâ\\x80\\x99t': 1, 'thatâ\\x80\\x99s': 9, 'provided': 5, 'put': 16, 'nightâ\\x80\\x99s': 4, 'business': 10, 'dispatch': 1, 'nights': 4, 'days': 8, 'solely': 1, 'sovereign': 2, 'sway': 2, 'masterdom': 1, 'clear': 4, 'alter': 1, 'ever': 9, 'hautboys': 2, 'pleasant': 1, 'seat': 2, 'nimbly': 1, 'sweetly': 1, 'recommends': 1, 'gentle': 4, 'senses': 4, 'guest': 3, 'summer': 1, 'temple-haunting': 1, 'martlet': 1, 'does': 26, 'approve': 1, 'loved': 2, 'mansionry': 1, 'heavenâ\\x80\\x99s': 2, 'smells': 1, 'wooingly': 1, 'jutty': 1, 'frieze': 1, 'buttress': 1, 'coign': 1, 'bird': 3, 'pendant': 1, 'bed': 11, 'procreant': 1, 'cradle': 1, 'breed': 4, 'haunt': 2, 'observâ\\x80\\x99d': 1, 'delicate': 1, 'honourâ\\x80\\x99d': 2, 'hostess': 5, 'â\\x80\\x94': 17, 'follows': 1, 'sometime': 3, 'trouble': 7, 'still': 19, 'herein': 1, 'teach': 2, 'â\\x80\\x99ild': 1, 'twice': 1, 'poor': 16, 'broad': 3, 'wherewith': 1, 'majesty': 5, 'loads': 1, 'house': 6, 'late': 6, 'dignities': 1, 'heapâ\\x80\\x99d': 1, 'hermits': 1, 'whereâ\\x80\\x99s': 1, 'coursâ\\x80\\x99d': 1, 'purveyor': 1, 'rides': 1, 'sharp': 1, 'spur': 2, 'holp': 1, 'theirs': 2, 'compt': 1, 'audit': 1, 'pleasure': 5, 'return': 8, 'conduct': 1, 'host': 4, 'continue': 2, 'graces': 3, 'towards': 4, 'torches': 1, 'pass': 2, 'over': 2, 'sewer': 1, 'divers': 1, 'dishes': 1, 'quickly': 4, 'assassination': 1, 'could': 15, 'trammel': 1, 'consequence': 1, 'surcease': 1, 'be-all': 1, 'end-allâ\\x80\\x94here': 1, 'bank': 1, 'shoal': 1, 'weâ\\x80\\x99d': 1, 'jump': 1, 'cases': 1, 'instructions': 1, 'taught': 1, 'plague': 1, 'inventor': 1, 'even-handed': 1, 'commends': 1, 'ingredience': 1, 'poisonâ\\x80\\x99d': 2, 'chalice': 1, 'heâ\\x80\\x99s': 7, 'subject': 3, 'strong': 5, 'deed': 14, 'murderer': 33, 'shut': 3, 'door': 4, 'borne': 5, 'faculties': 1, 'meek': 1, 'office': 4, 'virtues': 1, 'plead': 1, 'angels': 2, 'trumpet-tongued': 1, 'damnation': 1, 'taking-off': 1, 'pity': 2, 'naked': 2, 'new-born': 1, 'babe': 3, 'striding': 1, 'blast': 1, 'cherubin': 1, 'horsâ\\x80\\x99d': 1, 'couriers': 1, 'tears': 2, 'drown': 2, 'wind.â\\x80\\x94i': 1, 'prick': 2, 'sides': 3, 'intent': 1, 'vaulting': 1, 'oâ\\x80\\x99erleaps': 1, 'falls': 1, 'otherâ\\x80\\x94': 1, 'suppâ\\x80\\x99d': 2, 'chamber': 6, 'askâ\\x80\\x99d': 2, 'proceed': 1, 'bought': 2, 'opinions': 1, 'sorts': 1, 'worn': 1, 'gloss': 1, 'cast': 3, 'aside': 1, 'soon': 3, 'drunk': 2, 'wherein': 1, 'dressâ\\x80\\x99d': 1, 'yourself': 2, 'slept': 2, 'since': 6, 'wakes': 1, 'green': 2, 'pale': 4, 'freely': 5, 'account': 2, 'esteemâ\\x80\\x99st': 1, 'ornament': 1, 'coward': 2, 'esteem': 2, 'letting': 1, 'â\\x80\\x9ci': 2, 'dare': 13, 'notâ\\x80\\x9d': 1, 'cat': 2, 'adage': 1, 'prâ\\x80\\x99ythee': 4, 'dares': 3, 'beast': 1, 'wasâ\\x80\\x99t': 3, 'enterprise': 1, 'durst': 1, 'adhere': 1, 'fitness': 2, 'unmake': 1, 'suck': 1, 'tender': 2, 'milks': 1, 'while': 8, 'pluckâ\\x80\\x99d': 1, 'nipple': 1, 'boneless': 1, 'gums': 1, 'dashâ\\x80\\x99d': 1, 'brains': 2, 'sworn': 1, 'fail': 4, 'screw': 1, 'courage': 3, 'sticking-place': 1, 'weâ\\x80\\x99ll': 9, 'asleep': 2, 'whereto': 1, 'dayâ\\x80\\x99s': 4, 'hard': 3, 'journey': 1, 'soundly': 1, 'invite': 2, 'chamberlains': 1, 'wine': 3, 'wassail': 1, 'convince': 1, 'memory': 2, 'warder': 1, 'fume': 1, 'receipt': 3, 'limbeck': 1, 'swinish': 1, 'drenched': 1, 'natures': 2, 'lie': 10, 'perform': 5, 'unguarded': 1, 'spongy': 1, 'guilt': 2, 'quell': 1, 'bring': 9, 'men-children': 1, 'undaunted': 1, 'mettle': 1, 'compose': 1, 'males': 1, 'markâ\\x80\\x99d': 2, 'sleepy': 2, 'daggers': 7, 'doneâ\\x80\\x99t': 2, 'griefs': 1, 'clamour': 1, 'roar': 1, 'settled': 1, 'bend': 1, 'agent': 2, 'feat': 1, 'mock': 2, 'fairest': 1, 'torch': 3, 'moon': 2, 'heard': 8, 'clock': 2, 'she': 19, 'twelve': 1, 'takeâ\\x80\\x99t': 1, 'later': 1, 'sword.â\\x80\\x94thereâ\\x80\\x99s': 1, 'husbandry': 1, 'candles': 1, 'summons': 3, 'lead': 2, 'merciful': 2, 'powers': 2, 'restrain': 1, 'cursed': 2, 'gives': 4, 'repose': 2, 'servant': 12, 'sword.â\\x80\\x94whoâ\\x80\\x99s': 1, 'abed': 1, 'unusual': 1, 'largess': 1, 'offices': 2, 'diamond': 1, 'greets': 1, 'measureless': 1, 'content': 2, 'unpreparâ\\x80\\x99d': 1, 'defect': 4, 'dreamt': 1, 'last': 9, 'some': 18, 'entreat': 1, 'serve': 2, 'spend': 4, 'grant': 2, 'kindâ\\x80\\x99st': 1, 'consent': 1, 'seeking': 1, 'augment': 1, 'franchisâ\\x80\\x99d': 1, 'allegiance': 1, 'counsellâ\\x80\\x99d': 1, '_exeunt': 11, 'fleance._': 1, 'mistress': 2, 'drink': 8, 'ready': 3, 'strike': 5, 'bell': 4, 'servant._': 4, 'dagger': 3, 'handle': 1, 'clutch': 1, 'vision': 1, 'sensible': 1, 'feeling': 1, 'mind': 9, 'creation': 2, 'proceeding': 1, 'heat-oppressed': 1, 'form': 5, 'palpable': 1, 'draw': 3, 'marshallâ\\x80\\x99st': 1, 'going': 2, 'instrument': 1, 'fools': 3, 'worth': 4, 'blade': 2, 'dudgeon': 1, 'gouts': 1, 'before.â\\x80\\x94thereâ\\x80\\x99s': 1, 'informs': 1, 'eyes.â\\x80\\x94now': 1, 'half-world': 1, 'wicked': 2, 'dreams': 2, 'abuse': 1, 'curtainâ\\x80\\x99d': 1, 'witchcraft': 1, 'celebrates': 1, 'hecateâ\\x80\\x99s': 2, 'offâ\\x80\\x99rings': 1, 'alarumâ\\x80\\x99d': 1, 'sentinel': 1, 'wolf': 2, 'howlâ\\x80\\x99s': 1, 'watch': 3, 'stealthy': 1, 'pace': 2, 'tarquinâ\\x80\\x99s': 1, 'ravishing': 1, 'strides': 1, 'design': 1, 'moves': 2, 'ghost.â\\x80\\x94thou': 1, 'sure': 5, 'firm-set': 1, 'hear': 19, 'steps': 1, 'walk': 4, 'stones': 2, 'prate': 1, 'whereabout': 1, 'horror': 5, 'suits': 1, 'it.â\\x80\\x94whiles': 1, 'threat': 1, 'heat': 1, 'deeds': 3, '_a': 3, 'rings._': 2, 'invites': 1, 'knell': 3, 'bold': 4, 'quenchâ\\x80\\x99d': 1, 'fire.â\\x80\\x94hark': 1, 'â\\x80\\x94peace': 1, 'owl': 4, 'shriekâ\\x80\\x99d': 1, 'bellman': 1, 'sternâ\\x80\\x99st': 1, 'doors': 1, 'surfeited': 1, 'grooms': 3, 'snores': 1, 'druggâ\\x80\\x99d': 1, 'possets': 1, '_within._': 2, 'ho': 3, 'alack': 1, 'afraid': 5, 'awakâ\\x80\\x99d': 2, 'attempt': 2, 'confounds': 1, 'us.â\\x80\\x94hark': 1, 'â\\x80\\x94i': 4, 'laid': 2, 'miss': 3, 'â\\x80\\x99em.â\\x80\\x94had': 1, 'resembled': 1, 'father': 13, 'doneâ\\x80\\x99t.â\\x80\\x94my': 1, 'husband': 4, 'deed.â\\x80\\x94didst': 1, 'noise': 5, 'scream': 1, 'crickets': 1, 'descended': 1, 'ay': 17, 'hark': 5, 'â\\x80\\x94who': 1, 'sorry': 2, '_looking': 1, 'hands._': 1, 'foolish': 1, 'laugh': 4, 'inâ\\x80\\x99s': 1, 'cried': 4, 'â\\x80\\x9cmurder': 2, 'wake': 3, 'prayers': 3, 'addressâ\\x80\\x99d': 1, 'lodgâ\\x80\\x99d': 2, 'â\\x80\\x9cgod': 2, 'bless': 3, 'â\\x80\\x9camen': 2, 'hangmanâ\\x80\\x99s': 1, 'listâ\\x80\\x99ning': 1, 'us.â\\x80\\x9d': 1, 'consider': 1, 'deeply': 1, 'wherefore': 3, 'â\\x80\\x9camenâ\\x80\\x9d': 2, 'need': 4, 'blessing': 3, 'stuck': 1, 'throat': 3, 'ways': 4, 'methought': 2, 'voice': 2, 'â\\x80\\x9csleep': 2, 'â\\x80\\x9dâ\\x80\\x94the': 1, 'knits': 1, 'ravellâ\\x80\\x99d': 1, 'sleave': 1, 'sore': 2, 'labourâ\\x80\\x99s': 1, 'bath': 1, 'balm': 1, 'hurt': 1, 'minds': 3, 'course': 2, 'chief': 2, 'nourisher': 1, 'lifeâ\\x80\\x99s': 4, 'feast': 5, 'mean': 4, 'â\\x80\\x9cglamis': 1, 'murderâ\\x80\\x99d': 5, 'therefore': 3, 'unbend': 1, 'strength': 3, 'brainsickly': 1, 'wash': 3, 'witness': 2, 'hand.â\\x80\\x94': 1, 'carry': 3, 'smear': 1, 'infirm': 1, 'sleeping': 2, 'pictures': 1, 'childhood': 1, 'painted': 2, 'bleed': 4, 'gild': 1, 'faces': 5, 'knocking': 9, 'appals': 1, 'ha': 2, 'pluck': 2, 'neptuneâ\\x80\\x99s': 1, 'ocean': 1, 'clean': 2, 'multitudinous': 1, 'seas': 1, 'incarnadine': 1, 'making': 2, 'red': 1, 'color': 1, 'shame': 4, 'wear': 5, 'white': 1, '_knocking': 3, 'south': 1, 'entry': 1, 'â\\x80\\x94retire': 1, 'little': 6, 'clears': 1, 'easy': 4, 'constancy': 1, 'unattended.â\\x80\\x94': 1, 'nightgown': 3, 'lest': 2, 'occasion': 1, 'watchers': 1, 'poorly': 1, 'best': 8, 'couldst': 2, 'hereâ\\x80\\x99s': 8, 'turning': 1, 'key': 2, '_knocking._': 5, 'belzebub': 1, 'farmer': 1, 'hanged': 3, 'expectation': 2, 'plenty': 2, 'napkins': 1, 'enow': 2, 'youâ\\x80\\x99ll': 2, 'sweat': 1, 'forâ\\x80\\x99t': 3, 'devilâ\\x80\\x99s': 1, 'faith': 5, 'equivocator': 3, 'swear': 2, 'scales': 1, 'either': 3, 'scale': 2, 'committed': 2, 'treason': 3, 'enough': 6, 'godâ\\x80\\x99s': 3, 'sake': 1, 'equivocate': 1, 'tailor': 2, 'stealing': 1, 'french': 1, 'hose': 1, 'roast': 1, 'goose': 2, 'quiet': 1, 'â\\x80\\x94but': 3, 'devil-porter': 1, 'professions': 1, 'primrose': 1, 'everlasting': 1, 'bonfire': 1, 'remember': 4, '_opens': 1, 'gate._': 1, 'carousing': 1, 'cock': 1, 'provoker': 1, 'especially': 2, 'provoke': 1, 'marry': 1, 'nose-painting': 1, 'urine': 1, 'lechery': 2, 'provokes': 2, 'unprovokes': 1, 'performance': 1, 'said': 6, 'mars': 1, 'sets': 1, 'off': 8, 'persuades': 1, 'disheartens': 1, 'stand': 11, 'conclusion': 1, 'equivocates': 1, 'giving': 1, 'leaves': 2, 'believe': 3, 'requited': 1, 'took': 2, 'legs': 1, 'shift': 2, 'stirring': 2, 'command': 6, 'timely': 2, 'slippâ\\x80\\x99d': 1, 'delight': 2, 'physics': 1, 'pain': 1, 'limited': 6, 'macduff._': 1, 'today': 1, 'appoint': 1, 'unruly': 1, 'chimneys': 1, 'blown': 2, 'lamentings': 1, 'screams': 1, 'prophesying': 1, 'accents': 1, 'dire': 2, 'combustion': 1, 'confusâ\\x80\\x99d': 1, 'events': 1, 'hatchâ\\x80\\x99d': 1, 'woeful': 1, 'obscure': 1, 'clamourâ\\x80\\x99d': 1, 'live-long': 1, 'feverous': 1, 'â\\x80\\x99twas': 1, 'rough': 1, 'remembrance': 3, 'parallel': 1, 'fellow': 2, 'conceive': 1, 'whatâ\\x80\\x99s': 11, 'matter': 1, 'confusion': 2, 'masterpiece': 1, 'sacrilegious': 1, 'broke': 4, 'ope': 1, 'lordâ\\x80\\x99s': 1, 'anointed': 1, 'temple': 1, 'stole': 1, 'thence': 6, 'building': 1, 'destroy': 4, 'gorgon': 1, 'yourselves': 3, 'lennox._': 1, 'awake': 3, 'ring': 3, 'bell.â\\x80\\x94murder': 1, 'downy': 1, 'deathâ\\x80\\x99s': 1, 'counterfeit': 1, 'doomâ\\x80\\x99s': 1, 'graves': 2, 'rise': 6, 'sprites': 3, 'countenance': 1, '_alarum-bell': 1, 'hideous': 1, 'trumpet': 1, 'parley': 1, 'sleepers': 1, 'repetition': 1, 'masterâ\\x80\\x99s': 1, 'woe': 2, 'alas': 4, 'cruel': 4, 'anywhere.â\\x80\\x94': 1, 'dear': 4, 'duff': 1, 'contradict': 1, 'livâ\\x80\\x99d': 3, 'blessed': 1, 'serious': 1, 'mortality': 1, 'toys': 1, 'renown': 1, 'drawn': 1, 'mere': 3, 'lees': 1, 'vault': 1, 'brag': 1, 'amiss': 1, 'knowâ\\x80\\x99t': 1, 'fountain': 1, 'stoppâ\\x80\\x99d': 2, 'source': 1, 'fatherâ\\x80\\x99s': 3, 'badgâ\\x80\\x99d': 1, 'unwipâ\\x80\\x99d': 1, 'found': 6, 'pillows': 2, 'starâ\\x80\\x99d': 1, 'distracted': 1, 'manâ\\x80\\x99s': 4, 'repent': 1, 'fury': 3, 'kill': 3, 'wise': 2, 'amazâ\\x80\\x99d': 2, 'temperate': 1, 'furious': 1, 'loyal': 2, 'neutral': 1, 'moment': 3, 'expedition': 1, 'violent': 4, 'outrun': 1, 'pauser': 1, 'silver': 1, 'skin': 1, 'lacâ\\x80\\x99d': 1, 'gashâ\\x80\\x99d': 1, 'stabs': 1, 'lookâ\\x80\\x99d': 3, 'breach': 3, 'ruinâ\\x80\\x99s': 1, 'wasteful': 1, 'steepâ\\x80\\x99d': 1, 'colours': 6, 'trade': 2, 'unmannerly': 1, 'breechâ\\x80\\x99d': 1, 'gore': 1, 'refrain': 1, 'makeâ\\x80\\x99s': 1, 'tongues': 2, 'claim': 2, 'argument': 1, 'ours': 2, 'spoken': 3, 'hid': 2, 'auger': 1, 'hole': 1, 'rush': 1, 'seize': 2, 'brewâ\\x80\\x99d': 1, 'sorrow': 7, 'foot': 2, 'motion': 1, '_lady': 1, 'carried': 2, 'out._': 1, 'frailties': 1, 'suffer': 3, 'exposure': 1, 'piece': 1, 'work': 49, 'scruples': 2, 'undivulgâ\\x80\\x99d': 1, 'pretence': 1, 'treasonous': 1, 'malice': 3, 'briefly': 1, 'manly': 2, 'readiness': 1, 'hall': 1, 'contented': 1, 'donalbain._': 1, 'consort': 1, 'unfelt': 1, 'ireland': 2, 'separated': 1, 'safer': 2, 'menâ\\x80\\x99s': 2, 'smiles': 2, 'nearer': 1, 'murderous': 1, 'shaft': 1, 'shot': 1, 'lighted': 2, 'safest': 1, 'avoid': 1, 'aim': 1, 'horse': 4, 'dainty': 1, 'leave-taking': 2, 'warrant': 1, 'theft': 1, 'steals': 1, 'mercy': 2, 'threescore': 1, 'volume': 1, 'hours': 1, 'dreadful': 2, 'trifled': 1, 'knowings': 1, 'seest': 1, 'heavens': 2, 'troubled': 2, 'threatens': 1, 'stage': 2, 'strangles': 1, 'travelling': 1, 'lamp': 1, 'predominance': 1, 'entomb': 1, 'living': 1, 'kiss': 2, 'unnatural': 3, 'tuesday': 1, 'falcon': 1, 'towering': 1, 'pride': 1, 'mousing': 1, 'hawkâ\\x80\\x99d': 1, 'killâ\\x80\\x99d': 5, 'duncanâ\\x80\\x99s': 3, 'horses': 5, 'certain': 7, 'beauteous': 1, 'swift': 4, 'minions': 1, 'race': 1, 'turnâ\\x80\\x99d': 1, 'stalls': 1, 'flung': 1, 'contending': 1, 'obedience': 3, 'war': 4, 'mankind': 1, 'eat': 3, 'amazement': 1, 'uponâ\\x80\\x99t': 2, 'slain': 3, 'pretend': 1, 'subornâ\\x80\\x99d': 1, 'sons': 3, 'stolâ\\x80\\x99n': 1, 'fled': 7, 'puts': 1, 'suspicion': 1, 'thriftless': 1, 'ravin': 1, 'means': 8, 'â\\x80\\x94then': 1, 'sovereignty': 2, 'already': 5, 'namâ\\x80\\x99d': 2, 'scone': 3, 'invested': 1, 'body': 3, 'colmekill': 1, 'sacred': 1, 'storehouse': 1, 'predecessors': 1, 'guardian': 1, 'bones': 3, 'adieu': 2, 'sit': 7, 'easier': 1, 'benison': 1, 'bad': 2, 'foes': 2, 'playâ\\x80\\x99dst': 1, 'foully': 1, 'posterity': 1, 'many': 11, 'speeches': 3, 'verities': 1, 'oracles': 1, 'hush': 1, 'sennet': 1, 'sounded': 1, 'queen': 4, 'gap': 1, 'all-thing': 1, 'unbecoming': 1, 'solemn': 1, 'supper': 3, 'request': 2, 'presence': 2, 'highness': 6, 'indissoluble': 1, 'tie': 1, 'knit': 1, 'ride': 3, 'afternoon': 1, 'desirâ\\x80\\x99d': 1, 'advice': 2, 'grave': 5, 'council': 1, 'â\\x80\\x99twixt': 1, 'better': 8, 'borrower': 1, 'twain': 1, 'bestowâ\\x80\\x99d': 1, 'confessing': 1, 'parricide': 1, 'filling': 1, 'hearers': 1, 'invention': 1, 'therewithal': 1, 'cause': 6, 'craving': 1, 'jointly': 1, 'uponâ\\x80\\x99s': 2, 'wish': 4, 'commend': 2, 'backs': 1, 'farewell.â\\x80\\x94': 1, 'seven': 1, 'society': 2, 'sweeter': 1, 'ourself': 2, 'alone': 4, '&': 3, 'c._': 3, 'sirrah': 2, 'safely': 1, 'stick': 1, 'royalty': 5, 'reigns': 1, 'fearâ\\x80\\x99d': 1, 'dauntless': 1, 'temper': 1, 'wisdom': 8, 'guide': 1, 'safety': 1, 'genius': 1, 'rebukâ\\x80\\x99d': 1, 'antonyâ\\x80\\x99s': 1, 'caesar': 1, 'chid': 1, 'prophet-like': 1, 'hailâ\\x80\\x99d': 1, 'placâ\\x80\\x99d': 1, 'fruitless': 1, 'barren': 1, 'sceptre': 1, 'gripe': 1, 'wrenchâ\\x80\\x99d': 1, 'unlineal': 1, 'succeeding': 2, 'ifâ\\x80\\x99t': 3, 'banquoâ\\x80\\x99s': 5, 'issue': 6, 'filâ\\x80\\x99d': 1, 'gracious': 7, 'rancours': 1, 'vessel': 1, 'eternal': 2, 'jewel': 1, 'common': 2, 'enemy': 4, 'seed': 1, 'list': 1, 'champion': 1, 'utterance': 1, 'â\\x80\\x94whoâ\\x80\\x99s': 1, 'yesterday': 1, 'considerâ\\x80\\x99d': 1, 'past': 1, 'held': 1, 'self': 2, 'conference': 1, 'passâ\\x80\\x99d': 1, 'probation': 1, 'crossâ\\x80\\x99d': 1, 'half': 2, 'soul': 4, 'notion': 1, 'crazâ\\x80\\x99d': 1, 'banquo.â\\x80\\x9d': 1, 'patience': 3, 'predominant': 1, 'gospellâ\\x80\\x99d': 1, 'bowâ\\x80\\x99d': 1, 'beggarâ\\x80\\x99d': 1, 'yours': 3, 'forever': 1, 'catalogue': 1, 'hounds': 1, 'greyhounds': 1, 'mongrels': 1, 'spaniels': 1, 'curs': 1, 'shoughs': 1, 'water-rugs': 1, 'demi-wolves': 1, 'clept': 1, 'dogs': 2, 'valuâ\\x80\\x99d': 1, 'file': 5, 'distinguishes': 1, 'subtle': 1, 'housekeeper': 1, 'hunter': 1, 'according': 2, 'gift': 2, 'bounteous': 1, 'closâ\\x80\\x99d': 1, 'whereby': 1, 'particular': 3, 'bill': 1, 'writes': 1, 'alike': 1, 'station': 2, 'worst': 5, 'rank': 1, 'manhood': 2, 'sayâ\\x80\\x99t': 1, 'bosoms': 2, 'grapples': 1, 'health': 5, 'sickly': 2, 'perfect': 4, 'vile': 1, 'blows': 1, 'buffets': 1, 'incensâ\\x80\\x99d': 1, 'reckless': 1, 'spite': 2, 'disasters': 1, 'tuggâ\\x80\\x99d': 1, 'any': 43, 'mend': 1, 'rid': 1, 'distance': 2, 'minute': 2, 'thrusts': 1, 'nearâ\\x80\\x99st': 1, 'barefacâ\\x80\\x99d': 1, 'power': 11, 'sweep': 1, 'avouch': 1, 'loves': 4, 'drop': 3, 'wail': 2, 'struck': 2, 'assistance': 2, 'masking': 1, 'sundry': 3, 'weighty': 1, 'reasons': 1, 'livesâ\\x80\\x94': 1, 'advise': 2, 'acquaint': 1, 'spy': 1, 'something': 4, 'always': 1, 'require': 3, 'clearness': 1, 'rubs': 2, 'botches': 1, 'keeps': 4, 'company': 2, 'absence': 2, 'material': 1, 'embrace': 1, 'resolve': 1, 'apart': 1, 'resolvâ\\x80\\x99d': 1, 'straight': 2, 'abide': 3, 'murderers._': 2, 'concluded': 1, 'soulâ\\x80\\x99s': 1, 'flight': 4, 'madam': 3, 'returns': 2, 'few': 2, 'naughtâ\\x80\\x99s': 1, 'got': 2, 'destruction': 2, 'dwell': 1, 'joy': 2, 'sorriest': 1, 'fancies': 2, 'companions': 1, 'remedy': 1, 'regard': 2, 'scorchâ\\x80\\x99d': 1, 'snake': 2, 'sheâ\\x80\\x99ll': 2, 'close': 3, 'herself': 1, 'whilst': 1, 'remains': 2, 'danger': 2, 'tooth': 2, 'frame': 1, 'disjoint': 1, 'worlds': 1, 'meal': 1, 'affliction': 1, 'nightly': 1, 'gain': 2, 'torture': 1, 'restless': 1, 'ecstasy': 2, 'fitful': 1, 'fever': 1, 'sleeps': 1, 'poison': 1, 'domestic': 1, 'foreign': 1, 'levy': 1, 'touch': 3, 'gently': 2, 'sleek': 1, 'rugged': 2, 'bright': 2, 'jovial': 1, 'among': 1, 'guests': 1, 'apply': 2, 'eminence': 1, 'unsafe': 1, 'lave': 1, 'flattering': 1, 'streams': 1, 'vizards': 1, 'disguising': 1, 'scorpions': 1, 'knowâ\\x80\\x99st': 1, 'copyâ\\x80\\x99s': 1, 'eterne': 1, 'assailable': 1, 'jocund': 1, 'bat': 2, 'flown': 1, 'cloisterâ\\x80\\x99d': 1, 'shard-born': 1, 'beetle': 1, 'drowsy': 1, 'hums': 2, 'rung': 1, 'yawning': 1, 'peal': 1, 'note': 4, 'chuck': 1, 'applaud': 3, 'seeling': 1, 'scarf': 1, 'pitiful': 2, 'invisible': 1, 'cancel': 1, 'tear': 2, 'pieces': 1, 'bond': 2, 'â\\x80\\x94light': 1, 'thickens': 1, 'crow': 1, 'rooky': 1, 'begin': 2, 'droop': 1, 'drowse': 1, 'agents': 1, 'preys': 1, 'rouse': 2, 'marvellâ\\x80\\x99st': 1, 'ill.': 1, 'join': 1, 'needs': 3, 'mistrust': 1, 'delivers': 1, 'direction': 2, 'just': 3, 'west': 2, 'glimmers': 1, 'streaks': 1, 'spurs': 1, 'lated': 1, 'traveller': 1, 'apace': 1, 'inn': 1, 'approaches': 2, 'mile': 2, 'usually': 1, 'toâ\\x80\\x99t': 2, '_assaults': 1, 'treachery': 2, 'fly': 12, 'mayst': 3, 'revengeâ\\x80\\x94o': 1, '_dies': 2, 'escapes._': 1, 'affair': 1, 'prepared': 1, 'degrees': 1, 'hearty': 1, 'mingle': 2, 'humble': 1, 'speaks': 2, 'encounter': 1, 'heartsâ\\x80\\x99': 1, 'midst': 1, 'large': 2, 'mirth': 2, 'measure': 2, 'table': 2, 'dispatchâ\\x80\\x99d': 1, 'cut': 3, 'cut-throats': 1, 'nonpareil': 1, 'â\\x80\\x99scapâ\\x80\\x99d': 1, 'fit': 4, 'whole': 4, 'marble': 1, 'founded': 1, 'rock': 1, 'casing': 1, 'cabinâ\\x80\\x99d': 1, 'cribbâ\\x80\\x99d': 1, 'confinâ\\x80\\x99d': 1, 'bound': 3, 'saucy': 2, 'doubts': 2, 'ditch': 1, 'bides': 1, 'trenched': 1, 'least': 2, 'grown': 1, 'worm': 1, 'venom': 2, 'teeth': 1, 'present.â\\x80\\x94get': 1, 'ourselves': 2, 'murderer._': 1, 'cheer': 4, 'sold': 1, 'often': 5, 'vouchâ\\x80\\x99d': 1, 'a-making': 1, 'feed': 2, 'sauce': 2, 'meat': 2, 'ceremony': 1, 'bare': 1, 'rises': 3, 'sits': 2, 'sweet': 4, 'remembrancer': 1, 'digestion': 1, 'appetite': 1, 'mayâ\\x80\\x99t': 1, 'roofâ\\x80\\x99d': 1, 'gracâ\\x80\\x99d': 1, 'person': 7, 'challenge': 1, 'unkindness': 1, 'mischance': 1, 'lays': 1, 'blame': 2, 'promise': 2, 'pleaseâ\\x80\\x99t': 1, 'tableâ\\x80\\x99s': 1, 'reservâ\\x80\\x99d': 1, 'canst': 3, 'gory': 1, 'locks': 2, 'youth': 1, 'momentary': 1, 'offend': 1, 'extend': 1, 'passion': 2, 'not.â\\x80\\x94are': 1, 'appal': 1, 'proper': 1, 'stuff': 2, 'painting': 1, 'air-drawn': 1, 'led': 2, 'flaws': 1, 'starts': 1, 'impostors': 1, 'story': 2, 'winterâ\\x80\\x99s': 1, 'fire': 4, 'authorisâ\\x80\\x99d': 1, 'grandam': 1, 'stool': 1, 'behold': 3, 'lo': 2, 'nod': 1, 'too.â\\x80\\x94': 1, 'charnel': 1, 'houses': 1, 'send': 7, 'bury': 1, 'monuments': 1, 'maws': 1, 'kites': 1, '_ghost': 2, 'disappears._': 2, 'quite': 1, 'unmannâ\\x80\\x99d': 1, 'folly': 2, 'fie': 3, 'shed': 1, 'olden': 1, 'humane': 1, 'statute': 1, 'purgâ\\x80\\x99d': 1, 'weal': 2, 'murders': 3, 'performâ\\x80\\x99d': 1, 'crowns': 1, 'push': 2, 'stools': 1, 'lack': 3, 'forget.â\\x80\\x94': 1, 'muse': 1, 'infirmity': 1, 'down.â\\x80\\x94give': 1, 'full.â\\x80\\x94': 1, 'thirst': 1, 'pledge': 1, 'avaunt': 1, 'quit': 1, 'marrowless': 1, 'speculation': 1, 'glare': 1, 'peers': 1, 'custom': 1, 'spoils': 1, 'russian': 1, 'rhinoceros': 1, 'hyrcan': 1, 'tiger': 1, 'shape': 1, 'firm': 2, 'nerves': 1, 'tremble': 1, 'alive': 3, 'desert': 2, 'sword': 11, 'trembling': 1, 'inhabit': 1, 'protest': 2, 'baby': 2, 'girl': 1, 'shadow': 3, 'unreal': 1, 'mockâ\\x80\\x99ry': 1, 'â\\x80\\x94being': 1, 'again.â\\x80\\x94pray': 1, 'displaced': 1, 'admirâ\\x80\\x99d': 1, 'disorder': 1, 'overcome': 1, 'summerâ\\x80\\x99s': 1, 'cloud': 2, 'special': 2, 'disposition': 1, 'sights': 3, 'natural': 2, 'ruby': 1, 'cheeks': 2, 'blanchâ\\x80\\x99d': 1, 'grows': 3, 'worse': 4, 'enrages': 1, 'order': 3, 'atendants._': 1, 'move': 3, 'trees': 2, 'augurs': 1, 'understood': 1, 'relations': 1, 'magot-pies': 1, 'choughs': 1, 'rooks': 1, 'brought': 2, 'secretâ\\x80\\x99st': 1, 'blood.â\\x80\\x94what': 1, 'odds': 1, 'morning': 2, 'sayâ\\x80\\x99st': 1, 'denies': 1, 'bidding': 1, 'feeâ\\x80\\x99d': 1, 'betimes': 2, 'bent': 1, 'causes': 2, 'steppâ\\x80\\x99d': 1, 'wade': 1, 'returning': 1, 'tedious': 1, 'acted': 1, 'scannâ\\x80\\x99d': 1, 'season': 2, 'self-abuse': 1, 'initiate': 1, 'wants': 2, 'angerly': 1, 'beldams': 1, 'overbold': 1, 'traffic': 1, 'riddles': 1, 'affairs': 1, 'charms': 2, 'contriver': 1, 'harms': 2, 'glory': 1, 'wayward': 1, 'spiteful': 1, 'wrathful': 1, 'others': 3, 'ends': 2, 'amends': 1, 'pit': 1, 'acheron': 1, 'destiny': 1, 'vessels': 1, 'spells': 1, 'provide': 9, 'beside': 2, 'noon': 1, 'corner': 1, 'hangs': 1, 'vapâ\\x80\\x99rous': 1, 'profound': 1, 'ground': 2, 'distillâ\\x80\\x99d': 1, 'magic': 1, 'sleights': 1, 'raise': 1, 'artificial': 1, 'illusion': 1, 'spurn': 1, 'scorn': 4, 'hopes': 3, 'â\\x80\\x99bove': 1, 'security': 1, 'mortalsâ\\x80\\x99': 1, 'chiefest': 1, '_music': 3, 'song': 2, 'â\\x80\\x9ccome': 1, 'awayâ\\x80\\x9d': 1, 'foggy': 1, 'stays': 1, 'hit': 1, 'farther': 1, 'thingâ\\x80\\x99s': 1, 'strangely': 1, 'pitied': 1, 'â\\x80\\x94marry': 1, 'right': 7, 'walkâ\\x80\\x99d': 1, 'want': 1, 'monstrous': 1, 'fact': 1, 'grieve': 2, 'pious': 2, 'rage': 1, 'delinquents': 1, 'slaves': 1, 'thralls': 1, 'nobly': 1, 'wisely': 1, 'â\\x80\\x99twould': 1, 'angerâ\\x80\\x99d': 1, 'denyâ\\x80\\x99t': 1, 'andâ\\x80\\x99t': 1, 'â\\x80\\x94for': 1, 'â\\x80\\x99cause': 1, 'failâ\\x80\\x99d': 1, 'tyrantâ\\x80\\x99s': 6, 'disgrace': 2, 'bestows': 1, 'tyrant': 7, 'holds': 1, 'birth': 1, 'edward': 1, 'malevolence': 1, 'high': 3, 'respect': 1, 'holy': 3, 'warlike': 3, 'above': 3, 'ratify': 1, 'tables': 1, 'feasts': 1, 'banquets': 1, 'knives': 1, 'faithful': 1, 'homage': 1, 'exasperate': 1, 'prepares': 1, 'â\\x80\\x9csir': 1, 'cloudy': 1, 'turns': 1, 'â\\x80\\x9cyouâ\\x80\\x99ll': 1, 'rue': 1, 'clogs': 1, 'answer.â\\x80\\x9d': 1, 'caution': 2, 'tâ\\x80\\x99': 1, 'angel': 2, 'unfold': 1, 'suffering': 1, 'accursâ\\x80\\x99d': 1, 'brinded': 1, 'mewâ\\x80\\x99d': 1, 'hedge-pig': 1, 'whinâ\\x80\\x99d': 1, 'harpier': 1, 'â\\x80\\x94â\\x80\\x99tis': 1, 'entrails': 1, 'throw.â\\x80\\x94': 1, 'toad': 1, 'stone': 1, 'thirty-one': 1, 'swelterâ\\x80\\x99d': 1, 'boil': 3, 'charmed': 2, 'pot': 1, 'toil': 3, 'burn': 4, 'bubble': 4, 'fillet': 1, 'fenny': 1, 'bake': 1, 'newt': 1, 'frog': 1, 'wool': 1, 'dog': 1, 'adderâ\\x80\\x99s': 1, 'fork': 1, 'blind-wormâ\\x80\\x99s': 1, 'sting': 1, 'lizardâ\\x80\\x99s': 1, 'leg': 1, 'howletâ\\x80\\x99s': 1, 'charm': 4, 'powerful': 1, 'hell-broth': 1, 'dragon': 1, 'witchâ\\x80\\x99s': 1, 'mummy': 1, 'maw': 1, 'gulf': 1, 'ravinâ\\x80\\x99d': 1, 'salt-sea': 1, 'shark': 1, 'hemlock': 1, 'diggâ\\x80\\x99d': 1, 'liver': 1, 'blaspheming': 1, 'jew': 1, 'goat': 1, 'slips': 1, 'yew': 1, 'sliverâ\\x80\\x99d': 1, 'moonâ\\x80\\x99s': 1, 'eclipse': 1, 'nose': 1, 'turk': 1, 'tartarâ\\x80\\x99s': 1, 'birth-strangled': 1, 'ditch-deliverâ\\x80\\x99d': 1, 'drab': 1, 'gruel': 1, 'slab': 1, 'add': 2, 'thereto': 1, 'tigerâ\\x80\\x99s': 1, 'chaudron': 1, 'ingredients': 1, 'cool': 2, 'baboonâ\\x80\\x99s': 1, 'share': 2, 'gains': 1, 'sing': 1, 'elves': 1, 'fairies': 1, 'enchanting': 1, 'â\\x80\\x9cblack': 1, 'hecate._': 1, 'pricking': 1, 'thumbs': 1, 'whoever': 1, 'knocks': 1, 'secret': 2, 'midnight': 1, 'hags': 2, 'conjure': 1, 'profess': 1, 'howeâ\\x80\\x99er': 1, 'answer': 4, 'untie': 1, 'winds': 1, 'churches': 1, 'yesty': 1, 'waves': 1, 'confound': 2, 'swallow': 1, 'navigation': 1, 'bladed': 1, 'corn': 1, 'castles': 1, 'topple': 1, 'wardersâ\\x80\\x99': 1, 'heads': 2, 'palaces': 1, 'pyramids': 1, 'slope': 1, 'foundations': 1, 'treasure': 1, 'germens': 1, 'tumble': 1, 'sicken': 2, 'ask': 1, 'demand': 2, 'mouths': 1, 'masters': 1, 'â\\x80\\x99em': 4, 'sowâ\\x80\\x99s': 1, 'farrow': 1, 'grease': 1, 'sweaten': 1, 'murdererâ\\x80\\x99s': 1, 'gibbet': 1, 'flame': 1, 'low': 1, 'deftly': 1, '_thunder': 3, 'apparition': 7, 'armed': 1, 'rises._': 3, 'unknown': 2, 'knows': 7, 'speech': 4, 'naught': 2, 'beware': 2, 'fife.â\\x80\\x94dismiss': 1, 'me.â\\x80\\x94enough': 1, '_descends._': 3, 'whateâ\\x80\\x99er': 1, 'harpâ\\x80\\x99d': 1, 'aright.â\\x80\\x94but': 1, 'commanded': 1, 'potent': 1, 'child': 4, 'ears': 2, 'iâ\\x80\\x99d': 1, 'resolute': 1, 'woman': 10, 'born': 8, 'assurance': 1, 'pale-hearted': 1, 'crowned': 1, 'tree': 3, 'wears': 1, 'brow': 2, 'top': 2, 'listen': 1, 'lion-mettled': 1, 'proud': 1, 'chafes': 1, 'frets': 2, 'conspirers': 1, 'vanquishâ\\x80\\x99d': 1, 'until': 1, 'birnam': 10, 'hill': 2, 'impress': 2, 'forest': 2, 'earth-bound': 1, 'bodements': 1, 'high-placâ\\x80\\x99d': 1, 'lease': 1, 'custom.â\\x80\\x94yet': 1, 'throbs': 1, 'reign': 2, 'kingdom': 1, 'satisfied': 1, 'deny': 2, 'curse': 2, 'sinks': 2, '_hautboys._': 1, 'shadows': 1, 'depart': 1, 'eight': 1, 'appear': 3, 'glass': 2, 'following._': 1, 'sear': 1, 'eyeballs': 1, 'â\\x80\\x94and': 1, 'gold-bound': 1, 'former.â\\x80\\x94filthy': 1, 'â\\x80\\x94a': 2, 'â\\x80\\x94start': 1, 'stretch': 1, 'crack': 1, 'doom': 1, 'seventh': 1, 'â\\x80\\x94iâ\\x80\\x99ll': 2, 'eighth': 1, 'appears': 2, 'shows': 1, 'twofold': 1, 'balls': 1, 'treble': 1, 'sceptres': 1, 'â\\x80\\x94now': 1, 'blood-bolterâ\\x80\\x99d': 1, 'points': 1, 'his.â\\x80\\x94what': 1, 'amazedly': 1, 'delights': 1, 'antic': 1, 'kindly': 1, 'dance': 1, 'â\\x80\\x94let': 1, 'pernicious': 2, 'aye': 1, 'accursed': 2, 'calendar': 1, 'graceâ\\x80\\x99s': 1, 'infected': 2, 'whereon': 1, 'damnâ\\x80\\x99d': 3, 'galloping': 1, 'anticipatâ\\x80\\x99st': 1, 'dread': 1, 'exploits': 1, 'flighty': 1, 'oâ\\x80\\x99ertook': 1, 'unless': 4, 'firstlings': 2, 'acts': 1, 'surprise': 1, 'edge': 2, 'babes': 3, 'unfortunate': 1, 'souls': 3, 'trace': 1, 'boasting': 1, 'fool': 3, 'â\\x80\\x94where': 1, 'madness': 1, 'actions': 1, 'traitors': 3, 'mansion': 1, 'titles': 1, 'wren': 1, 'diminutive': 1, 'birds': 3, 'ones': 3, 'nest': 1, 'coz': 1, 'school': 1, 'judicious': 1, 'fits': 1, 'rumour': 2, 'float': 1, 'moveâ\\x80\\x94i': 1, 'long': 4, 'cease': 2, 'climb': 1, 'upward': 1, 'before.â\\x80\\x94my': 1, 'pretty': 3, 'fatherâ\\x80\\x99d': 1, 'fatherless': 1, 'longer': 2, 'mother': 5, 'worms': 1, 'flies': 1, 'net': 1, 'lime': 1, 'pit-fall': 1, 'gin': 1, 'saying': 1, 'wilt': 2, 'nay': 2, 'buy': 2, 'market': 1, 'sell': 1, 'speakâ\\x80\\x99st': 3, 'wit': 2, 'swears': 1, 'liars': 2, 'swearers': 2, 'beat': 2, 'monkey': 1, 'youâ\\x80\\x99ld': 1, 'weep': 2, 'sign': 1, 'prattler': 1, 'talkâ\\x80\\x99st': 1, 'dame': 1, 'doubt': 4, 'nearly': 3, 'homely': 1, 'fright': 1, 'methinks': 1, 'savage': 1, 'nigh': 1, 'preserve': 2, 'earthly': 1, 'laudable': 1, 'accounted': 1, 'dangerous': 1, 'womanly': 1, 'unsanctified': 1, 'liest': 2, 'shag-earâ\\x80\\x99d': 1, 'villain': 4, 'egg': 1, '_stabbing': 1, 'him._': 1, 'fry': 1, 'run': 1, 'exit': 1, 'crying': 1, 'pursued': 1, 'desolate': 1, 'shade': 1, 'sad': 1, 'empty': 1, 'fast': 3, 'bestride': 1, 'down-fallâ\\x80\\x99n': 1, 'birthdom': 1, 'morn': 1, 'widows': 1, 'howl': 1, 'orphans': 1, 'sorrows': 1, 'resounds': 1, 'felt': 1, 'yellâ\\x80\\x99d': 1, 'syllable': 2, 'dolour': 1, 'redress': 1, 'perchance': 2, 'sole': 1, 'blisters': 1, 'touchâ\\x80\\x99d': 1, 'deserve': 1, 'offer': 2, 'lamb': 2, 'appease': 1, 'angry': 1, 'treacherous': 1, 'virtuous': 1, 'recoil': 2, 'crave': 1, 'transpose': 1, 'brightest': 1, 'brows': 2, 'rawness': 1, 'precious': 2, 'motives': 1, 'knots': 1, 'jealousies': 1, 'dishonours': 1, 'safeties': 1, 'rightly': 1, 'whatever': 1, 'tyranny': 3, 'basis': 1, 'goodness': 2, 'wrongs': 1, 'affeerâ\\x80\\x99d.â\\x80\\x94fare': 1, 'thinkâ\\x80\\x99st': 1, 'space': 1, 'grasp': 1, 'rich': 1, 'east': 1, 'boot': 1, 'offended': 1, 'beneath': 1, 'yoke': 1, 'weeps': 1, 'bleeds': 1, 'gash': 1, 'added': 1, 'uplifted': 1, 'goodly': 1, 'thousands': 1, 'tread': 1, 'vices': 1, 'succeed': 1, 'particulars': 1, 'vice': 1, 'grafted': 1, 'openâ\\x80\\x99d': 1, 'pure': 1, 'snow': 1, 'comparâ\\x80\\x99d': 1, 'confineless': 1, 'legions': 1, 'evils': 2, 'luxurious': 1, 'avaricious': 1, 'deceitful': 1, 'sudden': 1, 'malicious': 1, 'smacking': 1, 'bottom': 1, 'voluptuousness': 1, 'wives': 1, 'daughters': 1, 'matrons': 1, 'maids': 1, 'cistern': 1, 'lust': 2, 'continent': 1, 'impediments': 1, 'oâ\\x80\\x99erbear': 1, 'oppose': 1, 'boundless': 1, 'intemperance': 1, 'untimely': 2, 'emptying': 1, 'convey': 1, 'pleasures': 1, 'spacious': 1, 'coldâ\\x80\\x94the': 1, 'hoodwink': 1, 'willing': 1, 'dames': 1, 'vulture': 1, 'devour': 1, 'dedicate': 1, 'finding': 1, 'inclinâ\\x80\\x99d': 1, 'ill-composâ\\x80\\x99d': 1, 'affection': 1, 'staunchless': 1, 'avarice': 2, 'nobles': 1, 'lands': 1, 'jewels': 1, 'otherâ\\x80\\x99s': 1, 'more-having': 1, 'hunger': 1, 'forge': 1, 'quarrels': 1, 'unjust': 1, 'destroying': 1, 'wealth': 1, 'sticks': 1, 'deeper': 1, 'summer-seeming': 1, 'foisons': 1, 'portable': 1, 'king-becoming': 1, 'verity': 1, 'tempâ\\x80\\x99rance': 1, 'stableness': 1, 'bounty': 1, 'perseverance': 1, 'lowliness': 1, 'devotion': 1, 'fortitude': 1, 'relish': 1, 'abound': 1, 'division': 1, 'crime': 1, 'acting': 1, 'concord': 1, 'uproar': 1, 'universal': 1, 'unity': 1, 'govern': 3, 'live.â\\x80\\x94o': 1, 'nation': 1, 'miserable': 1, 'untitled': 1, 'bloody-scepterâ\\x80\\x99d': 1, 'wholesome': 1, 'truest': 1, 'interdiction': 1, 'accusâ\\x80\\x99d': 1, 'blaspheme': 1, 'sainted': 1, 'bore': 1, 'oftâ\\x80\\x99ner': 1, 'knees': 1, 'feet': 2, 'lived': 1, 'fare': 2, 'repeatâ\\x80\\x99st': 1, 'banishâ\\x80\\x99d': 1, 'scotland.â\\x80\\x94o': 1, 'breast': 2, 'integrity': 1, 'wiped': 1, 'reconcilâ\\x80\\x99d': 1, 'devilish': 1, 'trains': 1, 'sought': 1, 'modest': 1, 'plucks': 1, 'over-credulous': 1, 'deal': 1, 'unspeak': 1, 'detraction': 1, 'abjure': 1, 'taints': 1, 'blames': 1, 'strangers': 2, 'forsworn': 1, 'coveted': 1, 'betray': 1, 'speaking': 1, 'truly': 2, 'here-approach': 1, 'setting': 2, 'warranted': 1, 'silent': 1, 'unwelcome': 1, 'reconcile': 1, 'anon.â\\x80\\x94comes': 1, 'crew': 1, 'wretched': 2, 'cure': 3, 'malady': 1, 'convinces': 1, 'assay': 1, 'sanctity': 1, 'presently': 1, 'amend': 1, 'doctor._': 2, 'disease': 3, 'evil': 1, 'miraculous': 1, 'here-remain': 1, 'solicits': 1, 'strangely-visited': 1, 'swoln': 1, 'ulcerous': 1, 'despair': 2, 'surgery': 1, 'cures': 1, 'hanging': 1, 'stamp': 1, 'necks': 1, 'healing': 1, 'benediction': 1, 'virtue': 1, 'heavenly': 1, 'prophecy': 1, 'blessings': 1, 'countryman': 1, 'ever-gentle': 1, 'remove': 4, 'amen': 1, 'smile': 2, 'sighs': 1, 'groans': 1, 'shrieks': 1, 'rent': 1, 'modern': 1, 'scarce': 1, 'expire': 1, 'flowers': 1, 'caps': 1, 'dying': 1, 'relation': 1, 'nice': 1, 'grief': 4, 'hourâ\\x80\\x99s': 1, 'age': 2, 'hiss': 1, 'speaker': 1, 'teems': 1, 'batterâ\\x80\\x99d': 1, 'niggard': 1, 'goesâ\\x80\\x99t': 1, 'transport': 1, 'heavily': 1, 'ran': 1, 'witnessâ\\x80\\x99d': 1, 'afoot': 1, 'create': 1, 'doff': 1, 'distresses': 1, 'beâ\\x80\\x99t': 1, 'lent': 1, 'older': 1, 'christendom': 1, 'howlâ\\x80\\x99d': 1, 'latch': 1, 'concern': 1, 'fee-grief': 1, 'shares': 1, 'main': 3, 'pertains': 1, 'despise': 1, 'possess': 1, 'heaviest': 1, 'humh': 1, 'guess': 1, 'surprisâ\\x80\\x99d': 1, 'savagely': 1, 'slaughterâ\\x80\\x99d': 1, 'relate': 2, 'manner': 1, 'quarry': 1, 'deer': 1, 'pull': 2, 'hat': 1, 'whispers': 1, 'oâ\\x80\\x99er-fraught': 1, 'bids': 1, 'comforted': 1, 'medâ\\x80\\x99cines': 1, 'revenge': 1, 'deadly': 1, 'children.â\\x80\\x94all': 1, 'â\\x80\\x94o': 1, 'hell-kite': 1, 'â\\x80\\x94all': 1, 'chickens': 1, 'dam': 1, 'swoop': 1, 'dispute': 1, 'also': 3, 'me.â\\x80\\x94did': 1, 'sinful': 1, 'demerits': 1, 'slaughter': 1, 'whetstone': 1, 'convert': 2, 'anger': 1, 'blunt': 1, 'enrage': 1, 'braggart': 1, 'short': 1, 'intermission': 1, 'front': 3, 'fiend': 2, 'swordâ\\x80\\x99s': 1, 'length': 1, 'â\\x80\\x99scape': 1, 'forgive': 2, 'ripe': 1, 'shaking': 1, 'physic': 2, 'waiting-gentlewoman': 1, 'watched': 1, 'perceive': 1, 'walked': 2, 'unlock': 1, 'closet': 1, 'paper': 2, 'fold': 1, 'write': 1, 'afterwards': 1, 'seal': 1, 'perturbation': 1, 'benefit': 1, 'effects': 1, 'watching': 1, 'slumbery': 1, 'agitation': 1, 'walking': 2, 'actual': 2, 'performances': 2, 'confirm': 1, 'taper': 1, 'guise': 1, 'observe': 1, 'continually': 1, 'sense': 2, 'accustomed': 1, 'action': 1, 'washing': 1, 'quarter': 1, 'spot': 2, 'satisfy': 1, 'strongly': 2, 'doâ\\x80\\x99t': 2, 'murky': 1, 'mar': 1, 'starting': 1, 'smell': 1, 'perfumes': 1, 'arabia': 1, 'sweeten': 1, 'oh': 3, 'sigh': 1, 'sorely': 1, 'charged': 1, 'dignity': 1, 'practice': 1, 'beds': 1, 'buried': 1, 'onâ\\x80\\x99s': 1, 'directly': 2, 'whispâ\\x80\\x99rings': 1, 'abroad': 2, 'troubles': 2, 'deaf': 1, 'discharge': 1, 'secrets': 1, 'divine': 1, 'physician.â\\x80\\x94': 1, 'annoyance': 1, 'mated': 1, 'uncle': 2, 'revenges': 1, 'grim': 1, 'alarm': 1, 'excite': 1, 'mortified': 1, 'brother': 1, 'gentry': 1, 'siwardâ\\x80\\x99s': 1, 'unrough': 1, 'youths': 1, 'fortifies': 1, 'buckle': 1, 'distemperâ\\x80\\x99d': 1, 'belt': 1, 'rule': 1, 'sticking': 1, 'minutely': 1, 'revolts': 1, 'upbraid': 1, 'faith-breach': 1, 'commands': 1, 'loose': 2, 'giantâ\\x80\\x99s': 1, 'robe': 1, 'dwarfish': 1, 'thief': 1, 'pesterâ\\x80\\x99d': 1, 'condemn': 1, 'march': 2, 'medâ\\x80\\x99cine': 1, 'purge': 2, 'dew': 1, 'weeds': 1, 'marching._': 2, 'reports': 2, 'taint': 1, 'consequences': 1, 'pronouncâ\\x80\\x99d': 1, 'â\\x80\\x9cfear': 2, 'eâ\\x80\\x99er': 1, 'thee.â\\x80\\x9dâ\\x80\\x94then': 1, 'epicures': 1, 'sag': 1, 'damn': 1, 'cream-facâ\\x80\\x99d': 1, 'loon': 1, 'gottâ\\x80\\x99st': 1, 'thousandâ\\x80\\x94': 1, 'geese': 1, 'over-red': 1, 'lily-liverâ\\x80\\x99d': 1, 'patch': 1, 'linen': 1, 'counsellors': 1, 'whey-face': 1, 'force': 1, 'sick': 2, 'beholdâ\\x80\\x94seyton': 1, 'â\\x80\\x94this': 2, 'disseat': 1, 'fallâ\\x80\\x99n': 1, 'sere': 1, 'yellow': 1, 'accompany': 1, 'troops': 1, 'stead': 1, 'curses': 1, 'loud': 1, 'mouth-honour': 1, 'fain': 1, 'confirmâ\\x80\\x99d': 2, 'reported': 2, 'flesh': 1, 'hackâ\\x80\\x99d': 1, 'armour': 2, 'needed': 1, 'skirr': 1, 'talk': 1, 'armour.â\\x80\\x94': 1, 'patient': 2, 'thick-coming': 1, 'minister': 2, 'diseasâ\\x80\\x99d': 1, 'rooted': 1, 'raze': 1, 'written': 4, 'oblivious': 1, 'antidote': 1, 'cleanse': 1, 'stuffâ\\x80\\x99d': 1, 'perilous': 1, 'weighs': 1, 'therein': 1, 'staff': 2, 'out.â\\x80\\x94doctor': 1, 'me.â\\x80\\x94': 2, 'despatch.â\\x80\\x94if': 1, 'pristine': 1, 'echo': 1, 'again.â\\x80\\x94pullâ\\x80\\x99t': 1, 'say.â\\x80\\x94': 1, 'rhubarb': 1, 'senna': 1, 'purgative': 1, 'drug': 1, 'scour': 1, 'hearâ\\x80\\x99st': 1, 'bane': 1, 'profit': 1, 'hardly': 1, 'marching': 1, 'chambers': 1, 'hew': 1, 'bough': 1, 'bearâ\\x80\\x99t': 1, 'thereby': 1, 'discovery': 1, 'err': 1, 'learn': 2, 'confident': 1, 'endure': 2, 'beforeâ\\x80\\x99t': 1, 'advantage': 1, 'constrained': 1, 'absent': 1, 'censures': 1, 'event': 1, 'industrious': 1, 'soldiership': 1, 'decision': 1, 'speculative': 1, 'unsure': 1, 'arbitrate': 1, 'advance': 1, 'outward': 1, 'walls': 1, 'castleâ\\x80\\x99s': 2, 'siege': 1, 'famine': 2, 'ague': 1, 'forcâ\\x80\\x99d': 1, 'dareful': 1, 'beard': 2, 'backward': 1, 'forgot': 1, 'taste': 1, 'coolâ\\x80\\x99d': 1, 'night-shriek': 1, 'treatise': 1, 'inâ\\x80\\x99t': 1, 'horrors': 1, 'direness': 1, 'familiar': 1, 'slaughterous': 1, 'creeps': 1, 'petty': 1, 'recorded': 1, 'yesterdays': 1, 'dusty': 1, 'brief': 1, 'candle': 1, 'player': 1, 'struts': 1, 'idiot': 1, 'signifying': 1, 'comâ\\x80\\x99st': 1, 'liar': 1, 'wrath': 1, 'moving': 1, 'grove': 1, 'next': 1, 'much.â\\x80\\x94': 1, 'resolution': 1, 'equivocation': 1, 'dunsinane.â\\x80\\x94arm': 1, 'avouches': 1, 'flying': 1, 'tarrying': 1, 'â\\x80\\x99gin': 1, 'aweary': 1, 'undone.â\\x80\\x94': 1, 'â\\x80\\x94blow': 1, 'harness': 1, 'boughs': 1, 'leafy': 1, 'screens': 1, 'are.â\\x80\\x94you': 1, 'battle': 1, 'well.â\\x80\\x94': 1, 'beaten': 1, 'trumpets': 1, 'clamorous': 1, 'harbingers': 1, 'alarums': 2, 'tied': 1, 'stake': 1, 'bear-like': 1, 'course.â\\x80\\x94whatâ\\x80\\x99s': 1, 'thouâ\\x80\\x99lt': 1, 'callâ\\x80\\x99st': 1, 'hotter': 1, 'nameâ\\x80\\x99s': 1, 'hateful': 1, 'fearful': 1, 'abhorred': 1, 'prove': 1, '_they': 2, 'slain._': 1, 'wast': 1, 'swords': 1, 'weapons': 1, 'is.â\\x80\\x94tyrant': 1, 'beâ\\x80\\x99st': 1, 'stroke': 1, 'childrenâ\\x80\\x99s': 1, 'ghosts': 1, 'hired': 1, 'staves': 1, 'unbatterâ\\x80\\x99d': 1, 'sheathe': 1, 'undeeded': 1, 'shouldst': 1, 'clatter': 1, 'bruited': 1, 'alarums._': 3, 'renderâ\\x80\\x99d': 1, 'bravely': 1, 'professes': 1, 'roman': 1, 'hell-hound': 1, 'avoided': 1, 'chargâ\\x80\\x99d': 1, 'bloodier': 1, 'fight._': 1, 'losest': 1, 'intrenchant': 1, 'vulnerable': 1, 'crests': 1, 'servâ\\x80\\x99d': 1, 'motherâ\\x80\\x99s': 1, 'womb': 1, 'rippâ\\x80\\x99d': 1, 'tells': 1, 'cowâ\\x80\\x99d': 1, 'juggling': 1, 'fiends': 1, 'believâ\\x80\\x99d': 1, 'palter': 1, 'gaze': 1, 'rarer': 1, 'monsters': 1, 'pole': 1, 'underwrit': 1, 'â\\x80\\x9chere': 1, 'tyrant.â\\x80\\x9d': 1, 'malcolmâ\\x80\\x99s': 1, 'baited': 1, 'rabbleâ\\x80\\x99s': 1, 'opposâ\\x80\\x99d': 1, 'try': 1, 'shield': 1, 'fighting': 1, 'retreat': 1, 'arrivâ\\x80\\x99d': 1, 'cheaply': 1, 'missing': 1, 'paid': 8, 'soldierâ\\x80\\x99s': 1, 'debt': 1, 'prowess': 1, 'unshrinking': 1, 'measurâ\\x80\\x99d': 1, 'hurts': 1, 'hairs': 1, 'fairer': 1, 'knollâ\\x80\\x99d': 1, 'parted': 1, 'score': 1, 'â\\x80\\x94here': 1, 'newer': 1, 'usurperâ\\x80\\x99s': 1, 'compassâ\\x80\\x99d': 1, 'pearl': 1, 'salutation': 1, 'voices': 1, 'aloud': 1, '_flourish._': 1, 'expense': 2, 'reckon': 1, 'henceforth': 1, 'earls': 1, 'planted': 1, 'newly': 1, 'calling': 1, 'exilâ\\x80\\x99d': 1, 'snares': 1, 'watchful': 1, 'producing': 1, 'butcher': 1, 'fiend-like': 1, 'needful': 1, 'named': 1, '1533-0.txt': 1, '1533-0.zip': 1, 'associated': 8, 'files': 2, 'various': 1, 'formats': 2, 'https': 1, '//www.gutenberg.org/1/5/3/1533/': 1, 'editions': 4, 'replace': 1, 'previous': 1, '--': 2, 'renamed': 1, 'creating': 4, 'works': 32, 'print': 1, 'protected': 5, 'u.s.': 7, 'copyright': 19, 'law': 7, 'owns': 2, 'foundation': 25, 'distribute': 6, 'permission': 6, 'paying': 3, 'royalties': 3, 'rules': 1, 'copying': 4, 'distributing': 7, 'gutenberg-tm': 56, 'electronic': 27, 'protect': 2, 'concept': 2, 'trademark': 13, 'registered': 2, 'used': 3, 'following': 4, 'including': 9, 'anything': 2, 'copies': 7, 'complying': 3, 'derivative': 3, 'research': 2, 'ebooks': 7, 'modified': 1, 'printed': 2, 'practically': 1, 'redistribution': 2, 'commercial': 1, 'mission': 4, 'promoting': 2, 'distribution': 6, 'phrase': 4, '``': 11, \"''\": 11, 'agree': 9, 'comply': 6, 'available': 2, 'www.gutenberg.org/license': 1, 'section': 7, '1.': 1, 'redistributing': 2, '1.a': 1, 'indicate': 1, 'accept': 1, 'intellectual': 2, 'property': 2, 'trademark/copyright': 1, 'agreement': 18, 'possession': 1, 'fee': 8, 'obtaining': 2, 'obtain': 3, 'refund': 10, 'entity': 3, 'paragraph': 11, '1.e.8': 4, '1.b': 1, '1.c': 2, 'below': 3, 'lot': 1, 'follow': 1, '1.e': 2, 'literary': 13, 'archive': 13, 'pglaf': 1, 'compilation': 1, 'collection': 4, 'individual': 4, 'public': 3, 'domain': 2, 'unprotected': 1, 'prevent': 1, 'performing': 3, 'displaying': 4, 'based': 2, 'references': 2, 'removed': 2, 'support': 4, 'sharing': 1, 'compliance': 5, 'keeping': 2, 'easily': 1, 'format': 4, 'its': 3, 'attached': 1, '1.d': 1, 'countries': 1, 'constant': 1, 'change': 1, 'outside': 2, 'downloading': 1, 'representations': 1, 'concerning': 2, 'status': 4, '1.e.1': 5, 'sentence': 2, 'active': 2, 'links': 3, 'immediate': 2, 'prominently': 2, 'whenever': 1, 'accessed': 1, 'displayed': 1, 'performed': 1, 'viewed': 1, 'copied': 2, 'distributed': 4, '1.e.2': 1, 'derived': 1, 'texts': 1, 'contain': 2, 'notice': 3, 'indicating': 1, 'posted': 4, 'holder': 4, 'fees': 4, 'charges': 1, 'providing': 4, 'appearing': 1, 'requirements': 4, 'paragraphs': 3, '1.e.7': 3, '1.e.9': 3, '1.e.3': 1, 'additional': 3, 'imposed': 1, 'linked': 1, 'beginning': 1, '1.e.4': 1, 'unlink': 1, 'detach': 1, 'containing': 1, '1.e.5': 1, 'display': 1, 'redistribute': 1, '1.e.6': 1, 'binary': 1, 'compressed': 1, 'marked': 2, 'nonproprietary': 1, 'proprietary': 1, 'processing': 1, 'hypertext': 1, 'however': 1, 'vanilla': 2, 'ascii': 2, 'official': 3, 'version': 1, 'website': 4, 'user': 3, 'exporting': 1, 'original': 1, 'alternate': 1, 'include': 1, 'specified': 2, 'reasonable': 1, '20': 1, '%': 1, 'gross': 1, 'profits': 1, 'derive': 1, 'calculated': 1, 'method': 1, 'calculate': 1, 'applicable': 3, 'taxes': 1, 'owed': 1, 'owner': 4, 'agreed': 1, 'donate': 3, 'payments': 3, '60': 1, 'prepare': 2, 'legally': 1, 'required': 1, 'periodic': 1, 'tax': 6, 'clearly': 1, 'address': 1, '4': 2, 'information': 8, 'donations': 15, 'money': 3, 'notifies': 1, 'writing': 3, 'e-mail': 1, '30': 1, 's/he': 1, 'possessed': 1, 'physical': 2, 'medium': 5, 'discontinue': 1, 'accordance': 2, '1.f.3': 5, 'replacement': 5, 'discovered': 1, '90': 2, 'group': 1, 'different': 1, 'manager': 1, 'contact': 3, '3': 3, '1.f': 1, '1.f.1': 1, 'employees': 1, 'expend': 1, 'considerable': 2, 'effort': 2, 'identify': 1, 'transcribe': 1, 'proofread': 1, 'despite': 1, 'efforts': 3, 'stored': 1, 'defects': 1, 'incomplete': 1, 'inaccurate': 1, 'corrupt': 1, 'data': 1, 'transcription': 1, 'errors': 1, 'infringement': 1, 'defective': 3, 'damaged': 1, 'disk': 1, 'computer': 2, 'virus': 1, 'codes': 1, 'damage': 2, 'equipment': 3, '1.f.2': 1, 'warranty': 2, 'disclaimer': 3, 'damages': 4, '-': 3, 'described': 1, 'party': 1, 'disclaim': 1, 'liability': 3, 'costs': 2, 'expenses': 2, 'legal': 2, 'remedies': 1, 'negligence': 1, 'strict': 1, 'contract': 1, 'distributor': 1, 'liable': 1, 'direct': 1, 'indirect': 1, 'consequential': 1, 'punitive': 1, 'incidental': 1, 'possibility': 1, 'discover': 1, 'receiving': 1, 'sending': 1, 'explanation': 2, 'received': 5, 'elect': 1, 'lieu': 2, 'electronically': 2, 'choose': 1, 'opportunity': 1, 'opportunities': 1, 'fix': 1, 'problem': 1, '1.f.4': 1, \"'as-is\": 1, \"'\": 1, 'warranties': 3, 'express': 1, 'implied': 2, 'merchantability': 1, '1.f.5': 1, 'allow': 1, 'disclaimers': 1, 'exclusion': 1, 'limitation': 3, 'types': 1, 'violates': 1, 'interpreted': 1, 'maximum': 1, 'permitted': 2, 'invalidity': 1, 'unenforceability': 1, 'provision': 1, 'void': 1, 'remaining': 1, 'provisions': 1, '1.f.6': 1, 'indemnity': 1, 'indemnify': 1, 'employee': 1, 'production': 1, 'promotion': 1, 'harmless': 1, 'arise': 1, 'indirectly': 1, 'occur': 1, 'b': 1, 'alteration': 1, 'modification': 1, 'additions': 1, 'deletions': 1, 'c': 2, '2.': 1, 'synonymous': 1, 'readable': 1, 'widest': 2, 'variety': 1, 'computers': 2, 'obsolete': 1, 'middle-aged': 1, 'exists': 1, 'because': 1, 'hundreds': 1, 'walks': 1, 'financial': 1, 'critical': 1, 'reaching': 1, \"gutenberg-tm's\": 1, 'goals': 1, 'ensuring': 1, 'remain': 1, 'generations': 2, '2001': 1, 'created': 2, 'secure': 1, 'permanent': 1, 'sections': 1, 'page': 2, '3.': 1, 'non-profit': 1, '501': 1, 'educational': 1, 'corporation': 1, 'organized': 1, 'mississippi': 1, 'granted': 1, 'exempt': 2, 'internal': 1, 'revenue': 1, \"'s\": 4, 'ein': 1, 'federal': 2, 'identification': 1, 'number': 3, '64-6221541.': 1, 'contributions': 2, 'deductible': 1, 'extent': 1, '809': 1, 'north': 1, '1500': 1, 'salt': 1, 'lake': 1, 'city': 1, 'ut': 1, '84116': 1, '801': 1, '596-1887.': 1, 'email': 2, 'www.gutenberg.org/contact': 1, '4.': 1, 'depends': 1, 'survive': 1, 'widespread': 1, 'increasing': 1, 'licensed': 1, 'machine-readable': 1, 'accessible': 1, 'array': 1, 'outdated': 1, 'small': 2, '$': 2, '1': 1, '5,000': 1, 'particularly': 1, 'important': 1, 'maintaining': 1, 'irs': 1, 'regulating': 1, 'charities': 1, 'charitable': 1, '50': 1, 'uniform': 1, 'paperwork': 1, 'solicit': 2, 'locations': 1, 'confirmation': 1, 'determine': 1, 'visit': 2, 'www.gutenberg.org/donate': 2, 'solicitation': 1, 'prohibition': 1, 'accepting': 1, 'unsolicited': 1, 'donors': 1, 'offers': 1, 'international': 1, 'gratefully': 1, 'accepted': 2, 'statements': 1, 'treatment': 1, 'swamp': 1, 'web': 1, 'pages': 1, 'current': 1, 'donation': 1, 'methods': 1, 'addresses': 1, 'checks': 1, 'credit': 1, '5.': 1, 'professor': 1, 'michael': 1, 's.': 1, 'hart': 1, 'originator': 1, 'library': 1, 'shared': 1, 'forty': 1, 'years': 1, 'network': 1, 'volunteer': 1, 'confirmed': 1, 'necessarily': 1, 'edition': 1, 'search': 1, 'facility': 1, 'includes': 1, 'produce': 1, 'subscribe': 1, 'newsletter': 1}\n"
        }
      ],
      "source": "# Put in your code here to make a dictionary \n# with <word> : <word counts> pairs from the Macbeth text\n\nmacbeth_words = {}\nfor i in text_words:\n    if i in macbeth_words.keys():\n        macbeth_words[i] += 1\n    else:\n        macbeth_words[i] = 1\nprint(macbeth_words)"
    },
    {
      "cell_type": "code",
      "execution_count": 35,
      "id": "e3c1da91",
      "metadata": {
        "trusted": false
      },
      "outputs": [
        {
          "name": "stdout",
          "output_type": "stream",
          "text": "\"Macbeth\" does not occur in this list.\n"
        }
      ],
      "source": "# Check out some entries in the dictionary \n# (such as 'Macbeth', 'sword', 'thy')\n\nif 'Macbeth' in macbeth_words.keys():\n  print('\"Macbeth\" occurs ' + str(macbeth_words['Macbeth']) + ' times.')\nelse:\n  print('\"Macbeth\" does not occur in this list.')"
    },
    {
      "cell_type": "code",
      "execution_count": 36,
      "id": "2f910a74",
      "metadata": {
        "trusted": false
      },
      "outputs": [
        {
          "name": "stdout",
          "output_type": "stream",
          "text": "\"macbeth\" occurs 286 times.\n"
        }
      ],
      "source": "# Check out some entries in the dictionary \n# (such as 'Macbeth', 'sword', 'thy')\n\nif 'macbeth' in macbeth_words.keys():\n  print('\"macbeth\" occurs ' + str(macbeth_words['macbeth']) + ' times.')\nelse:\n  print('\"macbeth\" does not occur in this list.')"
    },
    {
      "cell_type": "code",
      "execution_count": 37,
      "id": "1e533b18",
      "metadata": {
        "trusted": false
      },
      "outputs": [
        {
          "name": "stdout",
          "output_type": "stream",
          "text": "Macbeth does not occur in this list.\nmacbeth occurs 286 times.\nsword occurs 11 times.\nthy occurs 52 times.\n"
        }
      ],
      "source": "# Check out some entries in the dictionary \n# (such as 'Macbeth', 'sword', 'thy')\n\nfor i in ['Macbeth', 'macbeth', 'sword', 'thy']:\n    if i in macbeth_words.keys():\n      print(i + ' occurs ' + str(macbeth_words[i]) + ' times.')\n    else:\n      print(i + ' does not occur in this list.')"
    },
    {
      "cell_type": "markdown",
      "id": "109f2afa",
      "metadata": {},
      "source": "## Submit\n\nSubmit this assignment by:\n\n* Saving your work\n* Clicking on the Submit button at the top"
    }
  ],
  "metadata": {
    "kernelspec": {
      "display_name": "Python 3 (ipykernel)",
      "language": "python",
      "name": "python3"
    },
    "language_info": {
      "codemirror_mode": {
        "name": "ipython",
        "version": 3
      },
      "file_extension": ".py",
      "mimetype": "text/x-python",
      "name": "python",
      "nbconvert_exporter": "python",
      "pygments_lexer": "ipython3",
      "version": "3.10.8"
    },
    "nbsimplegrader": {
      "publish_config": {
        "classes": [
          "DH140_23W_bwinjum"
        ],
        "options": {
          "include_submit": false,
          "lock_notebook": false
        },
        "tools": []
      }
    }
  },
  "nbformat": 4,
  "nbformat_minor": 5
}