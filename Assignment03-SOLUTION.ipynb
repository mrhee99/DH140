{
  "cells": [
    {
      "cell_type": "markdown",
      "id": "e8b4c3b5",
      "metadata": {},
      "source": "# Assignment 3"
    },
    {
      "cell_type": "markdown",
      "id": "0327c786",
      "metadata": {},
      "source": "The following assignment will continue our practice with Python skills.\n\nWe start by debugging some incorrect code."
    },
    {
      "cell_type": "markdown",
      "id": "e11ddb0e",
      "metadata": {},
      "source": "## Errors\n\nIt's good to know how to deal with error messages.  In the following several cells, you will execute code that produces an error message.\n1. Execute each code cell below.\n  * I have written a comment describing what should happen\n  * Executing the code will result in an error\n2. In the cell following the erroneous code cell, write:\n  * a Python comment that explains (in your own words) what caused the error\n  * a new line of Python code that corrects the error and properly executes the described action"
    },
    {
      "cell_type": "code",
      "execution_count": 1,
      "id": "cfc29b58",
      "metadata": {
        "trusted": false
      },
      "outputs": [
        {
          "ename": "SyntaxError",
          "evalue": "Missing parentheses in call to 'print'. Did you mean print(...)? (226437728.py, line 3)",
          "output_type": "error",
          "traceback": [
            "\u001b[0;36m  Cell \u001b[0;32mIn[1], line 3\u001b[0;36m\u001b[0m\n\u001b[0;31m    print 'Hello'\u001b[0m\n\u001b[0m    ^\u001b[0m\n\u001b[0;31mSyntaxError\u001b[0m\u001b[0;31m:\u001b[0m Missing parentheses in call to 'print'. Did you mean print(...)?\n"
          ]
        }
      ],
      "source": "# This code should print \"Hello\"\n\nprint 'Hello'"
    },
    {
      "cell_type": "code",
      "execution_count": 2,
      "id": "5e8fe2b9",
      "metadata": {
        "trusted": false
      },
      "outputs": [
        {
          "name": "stdout",
          "output_type": "stream",
          "text": "Hello\n"
        }
      ],
      "source": "# The print function needs to include its input parameter between parantheses\nprint('Hello')"
    },
    {
      "cell_type": "code",
      "execution_count": 3,
      "id": "f67178e3",
      "metadata": {
        "trusted": false
      },
      "outputs": [
        {
          "ename": "NameError",
          "evalue": "name 'a' is not defined",
          "output_type": "error",
          "traceback": [
            "\u001b[0;31m---------------------------------------------------------------------------\u001b[0m",
            "\u001b[0;31mNameError\u001b[0m                                 Traceback (most recent call last)",
            "Cell \u001b[0;32mIn[3], line 3\u001b[0m\n\u001b[1;32m      1\u001b[0m \u001b[38;5;66;03m# This code should print the letter \"a\"\u001b[39;00m\n\u001b[0;32m----> 3\u001b[0m \u001b[38;5;28mprint\u001b[39m(\u001b[43ma\u001b[49m)\n",
            "\u001b[0;31mNameError\u001b[0m: name 'a' is not defined"
          ]
        }
      ],
      "source": "# This code should print the letter \"a\"\n\nprint(a)"
    },
    {
      "cell_type": "code",
      "execution_count": 4,
      "id": "9ff00a32",
      "metadata": {
        "trusted": false
      },
      "outputs": [
        {
          "name": "stdout",
          "output_type": "stream",
          "text": "a\n10\n"
        }
      ],
      "source": "# a without quotes is considered to be a variable\n# The character a should either be specified between quote marks\n# Or the variable a should be assigned a value before printing\nprint('a')\n# ...or...\na = 10\nprint(a)"
    },
    {
      "cell_type": "code",
      "execution_count": 5,
      "id": "0f805458",
      "metadata": {
        "trusted": false
      },
      "outputs": [
        {
          "ename": "TypeError",
          "evalue": "can only concatenate str (not \"int\") to str",
          "output_type": "error",
          "traceback": [
            "\u001b[0;31m---------------------------------------------------------------------------\u001b[0m",
            "\u001b[0;31mTypeError\u001b[0m                                 Traceback (most recent call last)",
            "Cell \u001b[0;32mIn[5], line 5\u001b[0m\n\u001b[1;32m      1\u001b[0m \u001b[38;5;66;03m# This code should print the following:\u001b[39;00m\n\u001b[1;32m      2\u001b[0m \u001b[38;5;66;03m# The value stored in 'b' is 10\u001b[39;00m\n\u001b[1;32m      4\u001b[0m b \u001b[38;5;241m=\u001b[39m \u001b[38;5;241m10\u001b[39m\n\u001b[0;32m----> 5\u001b[0m \u001b[38;5;28mprint\u001b[39m(\u001b[38;5;124;43m\"\u001b[39;49m\u001b[38;5;124;43mThe value stored in \u001b[39;49m\u001b[38;5;124;43m'\u001b[39;49m\u001b[38;5;124;43mb\u001b[39;49m\u001b[38;5;124;43m'\u001b[39;49m\u001b[38;5;124;43m is \u001b[39;49m\u001b[38;5;124;43m\"\u001b[39;49m\u001b[43m \u001b[49m\u001b[38;5;241;43m+\u001b[39;49m\u001b[43m \u001b[49m\u001b[43mb\u001b[49m)\n",
            "\u001b[0;31mTypeError\u001b[0m: can only concatenate str (not \"int\") to str"
          ]
        }
      ],
      "source": "# This code should print the following:\n# The value stored in 'b' is 10\n\nb = 10\nprint(\"The value stored in 'b' is \" + b)"
    },
    {
      "cell_type": "code",
      "execution_count": 6,
      "id": "95053a3e",
      "metadata": {
        "trusted": false
      },
      "outputs": [
        {
          "name": "stdout",
          "output_type": "stream",
          "text": "The value stored in 'b' is 10\n"
        }
      ],
      "source": "# b stores an integer, and integers and strings cannot be combined with the \"+\" symbol\n# One must first convert an integer to a string in order to add strings together with \"+\"\nprint(\"The value stored in 'b' is \" + str(b))"
    },
    {
      "cell_type": "code",
      "execution_count": 7,
      "id": "589a183a",
      "metadata": {
        "trusted": false
      },
      "outputs": [
        {
          "ename": "ValueError",
          "evalue": "0 is not in list",
          "output_type": "error",
          "traceback": [
            "\u001b[0;31m---------------------------------------------------------------------------\u001b[0m",
            "\u001b[0;31mValueError\u001b[0m                                Traceback (most recent call last)",
            "Cell \u001b[0;32mIn[7], line 5\u001b[0m\n\u001b[1;32m      1\u001b[0m \u001b[38;5;66;03m# Given the list stored in c, this code should output the index\u001b[39;00m\n\u001b[1;32m      2\u001b[0m \u001b[38;5;66;03m# at which \"2\" occurs\u001b[39;00m\n\u001b[1;32m      4\u001b[0m c \u001b[38;5;241m=\u001b[39m [\u001b[38;5;241m2\u001b[39m,\u001b[38;5;241m5\u001b[39m,\u001b[38;5;241m10\u001b[39m,\u001b[38;5;241m3\u001b[39m]\n\u001b[0;32m----> 5\u001b[0m \u001b[43mc\u001b[49m\u001b[38;5;241;43m.\u001b[39;49m\u001b[43mindex\u001b[49m\u001b[43m(\u001b[49m\u001b[38;5;241;43m0\u001b[39;49m\u001b[43m)\u001b[49m\n",
            "\u001b[0;31mValueError\u001b[0m: 0 is not in list"
          ]
        }
      ],
      "source": "# Given the list stored in c, this code should output the index\n# at which \"2\" occurs\n\nc = [2,5,10,3]\nc.index(0)"
    },
    {
      "cell_type": "code",
      "execution_count": 8,
      "id": "b28feb7c",
      "metadata": {
        "trusted": false
      },
      "outputs": [
        {
          "data": {
            "text/plain": "0"
          },
          "execution_count": 8,
          "metadata": {},
          "output_type": "execute_result"
        }
      ],
      "source": "# The input parameter for the index method is the value to search for\n# If one wants to find the index for which 2 occurs, one must use:\nc.index(2)"
    },
    {
      "cell_type": "code",
      "execution_count": 9,
      "id": "9ebf3f6b",
      "metadata": {
        "trusted": false
      },
      "outputs": [
        {
          "name": "stdout",
          "output_type": "stream",
          "text": "The element at index 0 is 2\nThe element at index 1 is 5\nThe element at index 2 is 10\nThe element at index 3 is 3\n"
        },
        {
          "ename": "IndexError",
          "evalue": "list index out of range",
          "output_type": "error",
          "traceback": [
            "\u001b[0;31m---------------------------------------------------------------------------\u001b[0m",
            "\u001b[0;31mIndexError\u001b[0m                                Traceback (most recent call last)",
            "Cell \u001b[0;32mIn[9], line 6\u001b[0m\n\u001b[1;32m      4\u001b[0m c \u001b[38;5;241m=\u001b[39m [\u001b[38;5;241m2\u001b[39m,\u001b[38;5;241m5\u001b[39m,\u001b[38;5;241m10\u001b[39m,\u001b[38;5;241m3\u001b[39m]\n\u001b[1;32m      5\u001b[0m \u001b[38;5;28;01mfor\u001b[39;00m i \u001b[38;5;129;01min\u001b[39;00m \u001b[38;5;28mrange\u001b[39m(\u001b[38;5;241m5\u001b[39m):\n\u001b[0;32m----> 6\u001b[0m     \u001b[38;5;28mprint\u001b[39m(\u001b[38;5;124m'\u001b[39m\u001b[38;5;124mThe element at index \u001b[39m\u001b[38;5;124m'\u001b[39m \u001b[38;5;241m+\u001b[39m \u001b[38;5;28mstr\u001b[39m(i) \u001b[38;5;241m+\u001b[39m \u001b[38;5;124m'\u001b[39m\u001b[38;5;124m is \u001b[39m\u001b[38;5;124m'\u001b[39m \u001b[38;5;241m+\u001b[39m \u001b[38;5;28mstr\u001b[39m(\u001b[43mc\u001b[49m\u001b[43m[\u001b[49m\u001b[43mi\u001b[49m\u001b[43m]\u001b[49m))\n",
            "\u001b[0;31mIndexError\u001b[0m: list index out of range"
          ]
        }
      ],
      "source": "# This code should print all of the values\n# in the list stored in \"c\" and stop gracefully\n\nc = [2,5,10,3]\nfor i in range(5):\n    print('The element at index ' + str(i) + ' is ' + str(c[i]))"
    },
    {
      "cell_type": "code",
      "execution_count": 10,
      "id": "93d6b7d6",
      "metadata": {
        "trusted": false
      },
      "outputs": [
        {
          "name": "stdout",
          "output_type": "stream",
          "text": "The element at index 0 is 2\nThe element at index 1 is 5\nThe element at index 2 is 10\nThe element at index 3 is 3\n"
        }
      ],
      "source": "# range(5) will iterate 5 times\n# and \"for i in range(5)\" will iterate over 0, 1, 2, 3, 4\n# c only contains four elements, and c[4] is outside the bounds of the list stored in c\nfor i in range(4):\n    print('The element at index ' + str(i) + ' is ' + str(c[i]))"
    },
    {
      "cell_type": "code",
      "execution_count": 11,
      "id": "e9acd5af",
      "metadata": {
        "trusted": false
      },
      "outputs": [
        {
          "ename": "NameError",
          "evalue": "name 'prin' is not defined",
          "output_type": "error",
          "traceback": [
            "\u001b[0;31m---------------------------------------------------------------------------\u001b[0m",
            "\u001b[0;31mNameError\u001b[0m                                 Traceback (most recent call last)",
            "Cell \u001b[0;32mIn[11], line 4\u001b[0m\n\u001b[1;32m      1\u001b[0m \u001b[38;5;66;03m# This code should print the dictionary stored in \"x\"\u001b[39;00m\n\u001b[1;32m      3\u001b[0m x \u001b[38;5;241m=\u001b[39m {\u001b[38;5;241m1\u001b[39m: \u001b[38;5;241m2\u001b[39m, \u001b[38;5;241m2\u001b[39m: \u001b[38;5;241m3\u001b[39m, \u001b[38;5;241m3\u001b[39m: \u001b[38;5;241m4\u001b[39m}\n\u001b[0;32m----> 4\u001b[0m \u001b[43mprin\u001b[49m(x)\n",
            "\u001b[0;31mNameError\u001b[0m: name 'prin' is not defined"
          ]
        }
      ],
      "source": "# This code should print the dictionary stored in \"x\"\n\nx = {1: 2, 2: 3, 3: 4}\nprin(x)"
    },
    {
      "cell_type": "code",
      "execution_count": 12,
      "id": "a010447d",
      "metadata": {
        "trusted": false
      },
      "outputs": [
        {
          "name": "stdout",
          "output_type": "stream",
          "text": "{1: 2, 2: 3, 3: 4}\n"
        }
      ],
      "source": "# print has been misspelled\nprint(x)"
    },
    {
      "cell_type": "code",
      "execution_count": 13,
      "id": "13942090",
      "metadata": {
        "trusted": false
      },
      "outputs": [
        {
          "ename": "AttributeError",
          "evalue": "'dict' object has no attribute 'key'",
          "output_type": "error",
          "traceback": [
            "\u001b[0;31m---------------------------------------------------------------------------\u001b[0m",
            "\u001b[0;31mAttributeError\u001b[0m                            Traceback (most recent call last)",
            "Cell \u001b[0;32mIn[13], line 5\u001b[0m\n\u001b[1;32m      1\u001b[0m \u001b[38;5;66;03m# The value of \"x\" is a dictionary\u001b[39;00m\n\u001b[1;32m      2\u001b[0m \u001b[38;5;66;03m# This code should print all the keys of that dictionary\u001b[39;00m\n\u001b[1;32m      4\u001b[0m x \u001b[38;5;241m=\u001b[39m {\u001b[38;5;124m'\u001b[39m\u001b[38;5;124mfirst\u001b[39m\u001b[38;5;124m'\u001b[39m: \u001b[38;5;241m1\u001b[39m, \u001b[38;5;124m'\u001b[39m\u001b[38;5;124msecond\u001b[39m\u001b[38;5;124m'\u001b[39m: \u001b[38;5;241m2\u001b[39m, \u001b[38;5;124m'\u001b[39m\u001b[38;5;124mthird\u001b[39m\u001b[38;5;124m'\u001b[39m: \u001b[38;5;241m3\u001b[39m}\n\u001b[0;32m----> 5\u001b[0m \u001b[38;5;28mprint\u001b[39m(\u001b[43mx\u001b[49m\u001b[38;5;241;43m.\u001b[39;49m\u001b[43mkey\u001b[49m())\n",
            "\u001b[0;31mAttributeError\u001b[0m: 'dict' object has no attribute 'key'"
          ]
        }
      ],
      "source": "# The value of \"x\" is a dictionary\n# This code should print all the keys of that dictionary\n\nx = {'first': 1, 'second': 2, 'third': 3}\nprint(x.key())"
    },
    {
      "cell_type": "code",
      "execution_count": 14,
      "id": "b72792eb",
      "metadata": {
        "trusted": false
      },
      "outputs": [
        {
          "name": "stdout",
          "output_type": "stream",
          "text": "dict_keys(['first', 'second', 'third'])\n"
        }
      ],
      "source": "# dictionaries have a \"keys\" method, not a \"key\" method\nprint(x.keys())"
    },
    {
      "cell_type": "code",
      "execution_count": 15,
      "id": "18370f70",
      "metadata": {
        "trusted": false
      },
      "outputs": [
        {
          "name": "stdout",
          "output_type": "stream",
          "text": "dict_values([1, 2, 3])\ndict_values([1, 2, 3])\n"
        }
      ],
      "source": "# This code will not print an error message.\n# However, the logic is flawed.\n# This code should \n# 1) print the values in the dictionary (1,2,3)\n# 2) increment each of the values by 1\n# 3) print the new values in the dictionary (2,3,4)\n# Comment on and correct the code in the cell below.\n\nx = {'first': 1, 'second': 2, 'third': 3}\n\nprint(x.values())\n\nfor i in x.values():\n    i = i + 1\n\nprint(x.values())"
    },
    {
      "cell_type": "code",
      "execution_count": 16,
      "id": "32f22e54",
      "metadata": {
        "trusted": false
      },
      "outputs": [
        {
          "name": "stdout",
          "output_type": "stream",
          "text": "dict_values([1, 2, 3])\ndict_values([2, 3, 4])\n"
        }
      ],
      "source": "# The statement in the for loop (i = i + 1) only changes the value stored in the iteration variable i\n# It does not change the value stored in the dictionary\n\nprint(x.values())\nfor i in x.keys():\n  x[i] = x[i] + 1\nprint(x.values())"
    },
    {
      "cell_type": "code",
      "execution_count": 17,
      "id": "e46a6bba",
      "metadata": {
        "trusted": false
      },
      "outputs": [
        {
          "name": "stdout",
          "output_type": "stream",
          "text": "I must say to my people who stand on the warm threshold which leads into the palace of justice.\n\nI am not unmindful that some of you have come here out of great trials and tribulations.\n\nI say to you today, my friends.\n\nI still have a dream.\n\nI have a dream that one day this nation will rise up and live out the true meaning of its creed: We hold these truths to be self-evident, that all men are created equal.\n\nI have a dream that one day on the red hills of Georgia, the sons of former slaves and the sons of former slave owners will be able to sit down together at the table of brotherhood.\n\nI have a dream that one day even the state of Mississippi, a state sweltering with the heat of injustice, sweltering with the heat of oppression will be transformed into an oasis of freedom and justice.\n\nI have a dream that my four little children will one day live in a nation where they will not be judged by the color of their skin but by the content of their character.\n\nI have a dream today.\n\nI have a dream that one day down in Alabama with its vicious racists, with its governor having his lips dripping with the words of interposition and nullification, one day right down in Alabama little Black boys and Black girls will be able to join hands with little white boys and white girls as sisters and brothers.\n\nI have a dream today.\n\nI have a dream that one day every valley shall be exalted, every hill and mountain shall be made low, the rough places will be made plain, and the crooked places will be made straight, and the glory of the Lord shall be revealed, and all flesh shall see it together.\n\nI go back to the South with.\n\nI sing.\n\n"
        },
        {
          "ename": "ValueError",
          "evalue": "substring not found",
          "output_type": "error",
          "traceback": [
            "\u001b[0;31m---------------------------------------------------------------------------\u001b[0m",
            "\u001b[0;31mValueError\u001b[0m                                Traceback (most recent call last)",
            "Cell \u001b[0;32mIn[17], line 11\u001b[0m\n\u001b[1;32m      6\u001b[0m startindex \u001b[38;5;241m=\u001b[39m \u001b[38;5;241m0\u001b[39m\n\u001b[1;32m      8\u001b[0m \u001b[38;5;28;01mfor\u001b[39;00m i \u001b[38;5;129;01min\u001b[39;00m \u001b[38;5;28mrange\u001b[39m(\u001b[38;5;241m20\u001b[39m):\n\u001b[1;32m      9\u001b[0m \n\u001b[1;32m     10\u001b[0m     \u001b[38;5;66;03m# find where 'I ' starts\u001b[39;00m\n\u001b[0;32m---> 11\u001b[0m     startindex \u001b[38;5;241m=\u001b[39m \u001b[43mspeech\u001b[49m\u001b[38;5;241;43m.\u001b[39;49m\u001b[43mindex\u001b[49m\u001b[43m(\u001b[49m\u001b[38;5;124;43m'\u001b[39;49m\u001b[38;5;124;43mI \u001b[39;49m\u001b[38;5;124;43m'\u001b[39;49m\u001b[43m,\u001b[49m\u001b[43mstartindex\u001b[49m\u001b[43m)\u001b[49m\n\u001b[1;32m     13\u001b[0m     \u001b[38;5;66;03m# find the period that follows\u001b[39;00m\n\u001b[1;32m     14\u001b[0m     endindex \u001b[38;5;241m=\u001b[39m speech\u001b[38;5;241m.\u001b[39mindex(\u001b[38;5;124m'\u001b[39m\u001b[38;5;124m.\u001b[39m\u001b[38;5;124m'\u001b[39m,startindex)\n",
            "\u001b[0;31mValueError\u001b[0m: substring not found"
          ]
        }
      ],
      "source": "# This code should print out every phrase/sentence in the speech\n# that starts with \"I \" and ends with a period.\n\nspeech = \"Five score years ago, a great American, in whose symbolic shadow we stand today, signed the Emancipation Proclamation. This momentous decree came as a great beacon light of hope to millions of Negro slaves who had been seared in the flames of withering injustice. It came as a joyous daybreak to end the long night of their captivity. But 100 years later, the Negro still is not free. One hundred years later, the life of the Negro is still sadly crippled by the manacles of segregation and the chains of discrimination. One hundred years later, the Negro lives on a lonely island of poverty in the midst of a vast ocean of material prosperity. One hundred years later the Negro is still languished in the corners of American society and finds himself in exile in his own land. And so we've come here today to dramatize a shameful condition. In a sense we've come to our nation's capital to cash a check. When the architects of our republic wrote the magnificent words of the Constitution and the Declaration of Independence, they were signing a promissory note to which every American was to fall heir. This note was a promise that all men - yes, Black men as well as white men - would be guaranteed the unalienable rights of life, liberty and the pursuit of happiness. It is obvious today that America has defaulted on this promissory note insofar as her citizens of color are concerned. Instead of honoring this sacred obligation, America has given the Negro people a bad check, a check which has come back marked insufficient funds. But we refuse to believe that the bank of justice is bankrupt. We refuse to believe that there are insufficient funds in the great vaults of opportunity of this nation. And so we've come to cash this check, a check that will give us upon demand the riches of freedom and the security of justice. We have also come to his hallowed spot to remind America of the fierce urgency of now. This is no time to engage in the luxury of cooling off or to take the tranquilizing drug of gradualism. Now is the time to make real the promises of democracy. Now is the time to rise from the dark and desolate valley of segregation to the sunlit path of racial justice. Now is the time to lift our nation from the quick sands of racial injustice to the solid rock of brotherhood. Now is the time to make justice a reality for all of God's children. It would be fatal for the nation to overlook the urgency of the moment. This sweltering summer of the Negro's legitimate discontent will not pass until there is an invigorating autumn of freedom and equality. 1963 is not an end, but a beginning. Those who hope that the Negro needed to blow off steam and will now be content will have a rude awakening if the nation returns to business as usual. There will be neither rest nor tranquility in America until the Negro is granted his citizenship rights. The whirlwinds of revolt will continue to shake the foundations of our nation until the bright day of justice emerges. But there is something that I must say to my people who stand on the warm threshold which leads into the palace of justice. In the process of gaining our rightful place, we must not be guilty of wrongful deeds. Let us not seek to satisfy our thirst for freedom by drinking from the cup of bitterness and hatred. We must forever conduct our struggle on the high plane of dignity and discipline. We must not allow our creative protest to degenerate into physical violence. Again and again, we must rise to the majestic heights of meeting physical force with soul force. The marvelous new militancy which has engulfed the Negro community must not lead us to a distrust of all white people, for many of our white brothers, as evidenced by their presence here today, have come to realize that their destiny is tied up with our destiny. And they have come to realize that their freedom is inextricably bound to our freedom. We cannot walk alone. And as we walk, we must make the pledge that we shall always march ahead. We cannot turn back. There are those who are asking the devotees of civil rights, when will you be satisfied? We can never be satisfied as long as the Negro is the victim of the unspeakable horrors of police brutality. We can never be satisfied as long as our bodies, heavy with the fatigue of travel, cannot gain lodging in the motels of the highways and the hotels of the cities. We cannot be satisfied as long as the Negro's basic mobility is from a smaller ghetto to a larger one. We can never be satisfied as long as our children are stripped of their selfhood and robbed of their dignity by signs stating: for whites only. We cannot be satisfied as long as a Negro in Mississippi cannot vote and a Negro in New York believes he has nothing for which to vote. No, no, we are not satisfied, and we will not be satisfied until justice rolls down like waters, and righteousness like a mighty stream. I am not unmindful that some of you have come here out of great trials and tribulations. Some of you have come fresh from narrow jail cells. Some of you have come from areas where your quest for freedom left you battered by the storms of persecution and staggered by the winds of police brutality. You have been the veterans of creative suffering. Continue to work with the faith that unearned suffering is redemptive. Go back to Mississippi, go back to Alabama, go back to South Carolina, go back to Georgia, go back to Louisiana, go back to the slums and ghettos of our Northern cities, knowing that somehow this situation can and will be changed. Let us not wallow in the valley of despair, I say to you today, my friends. So even though we face the difficulties of today and tomorrow, I still have a dream. It is a dream deeply rooted in the American dream. I have a dream that one day this nation will rise up and live out the true meaning of its creed: We hold these truths to be self-evident, that all men are created equal. I have a dream that one day on the red hills of Georgia, the sons of former slaves and the sons of former slave owners will be able to sit down together at the table of brotherhood. I have a dream that one day even the state of Mississippi, a state sweltering with the heat of injustice, sweltering with the heat of oppression will be transformed into an oasis of freedom and justice. I have a dream that my four little children will one day live in a nation where they will not be judged by the color of their skin but by the content of their character. I have a dream today. I have a dream that one day down in Alabama with its vicious racists, with its governor having his lips dripping with the words of interposition and nullification, one day right down in Alabama little Black boys and Black girls will be able to join hands with little white boys and white girls as sisters and brothers. I have a dream today. I have a dream that one day every valley shall be exalted, every hill and mountain shall be made low, the rough places will be made plain, and the crooked places will be made straight, and the glory of the Lord shall be revealed, and all flesh shall see it together. This is our hope. This is the faith that I go back to the South with. With this faith, we will be able to hew out of the mountain of despair a stone of hope. With this faith we will be able to transform the jangling discords of our nation into a beautiful symphony of brotherhood. With this faith we will be able to work together, to pray together, to struggle together, to go to jail together, to stand up for freedom together, knowing that we will be free one day. This will be the day when all of God's children will be able to sing with new meaning: My country, 'tis of thee, sweet land of liberty, of thee I sing. Land where my fathers died, land of the pilgrims' pride, from every mountainside, let freedom ring. And if America is to be a great nation, this must become true. And so let freedom ring from the prodigious hilltops of New Hampshire. Let freedom ring from the mighty mountains of New York. Let freedom ring from the heightening Alleghenies of Pennsylvania. Let freedom ring from the snowcapped Rockies of Colorado. Let freedom ring from the curvaceous slopes of California. But not only that, let freedom ring from Stone Mountain of Georgia. Let freedom ring from Lookout Mountain of Tennessee. Let freedom ring from every hill and molehill of Mississippi. From every mountainside, let freedom ring. And when this happens, and when we allow freedom ring, when we let it ring from every village and every hamlet, from every state and every city, we will be able to speed up that day when all of God's children, Black men and white men, Jews and Gentiles, Protestants and Catholics, will be able to join hands and sing in the words of the old Negro spiritual: Free at last. Free at last. Thank God almighty, we are free at last.\"\ndreamstring = 'I '\nstartindex = 0\n\nfor i in range(20):\n\n    # find where 'I ' starts\n    startindex = speech.index('I ',startindex)\n    \n    # find the period that follows\n    endindex = speech.index('.',startindex)\n    \n    # print the phrase\n    print(speech[startindex:endindex+1] + '\\n')\n    \n    # reset startindex so that the next time through the loop,\n    # we find the next phrase\n    startindex = endindex"
    },
    {
      "cell_type": "code",
      "execution_count": 18,
      "id": "c4a4afc7",
      "metadata": {
        "trusted": false
      },
      "outputs": [
        {
          "name": "stdout",
          "output_type": "stream",
          "text": "I must say to my people who stand on the warm threshold which leads into the palace of justice.\n\nI am not unmindful that some of you have come here out of great trials and tribulations.\n\nI say to you today, my friends.\n\nI still have a dream.\n\nI have a dream that one day this nation will rise up and live out the true meaning of its creed: We hold these truths to be self-evident, that all men are created equal.\n\nI have a dream that one day on the red hills of Georgia, the sons of former slaves and the sons of former slave owners will be able to sit down together at the table of brotherhood.\n\nI have a dream that one day even the state of Mississippi, a state sweltering with the heat of injustice, sweltering with the heat of oppression will be transformed into an oasis of freedom and justice.\n\nI have a dream that my four little children will one day live in a nation where they will not be judged by the color of their skin but by the content of their character.\n\nI have a dream today.\n\nI have a dream that one day down in Alabama with its vicious racists, with its governor having his lips dripping with the words of interposition and nullification, one day right down in Alabama little Black boys and Black girls will be able to join hands with little white boys and white girls as sisters and brothers.\n\nI have a dream today.\n\nI have a dream that one day every valley shall be exalted, every hill and mountain shall be made low, the rough places will be made plain, and the crooked places will be made straight, and the glory of the Lord shall be revealed, and all flesh shall see it together.\n\nI go back to the South with.\n\nI sing.\n\n"
        }
      ],
      "source": "# This error message is more opaque, but it is very similar to the error above for the \n# cell that tried to index c[4].  Here, all of the instances of \"I \" have been found and\n# the index method is telling you that no more \"I \" substrings exist to be found.  One\n# can get around this by more suitably setting the max value in range.\n\ndreamstring = 'I '\nstartindex = 0\n# line added:\ni_num_times = speech.count(dreamstring)\n\n# Changed this line from \"for i in range(20):\"\nfor i in range(i_num_times):\n\n    # find where 'I ' starts\n    startindex = speech.index('I ',startindex)\n    \n    # find the period that follows\n    endindex = speech.index('.',startindex)\n    \n    # print the phrase\n    print(speech[startindex:endindex+1] + '\\n')\n    \n    # reset startindex so that the next time through the loop,\n    # we find the next phrase\n    startindex = endindex"
    },
    {
      "cell_type": "markdown",
      "id": "206ae631",
      "metadata": {},
      "source": "## Regular Python exercises"
    },
    {
      "cell_type": "code",
      "execution_count": 19,
      "id": "37a48f84",
      "metadata": {
        "trusted": false
      },
      "outputs": [
        {
          "name": "stdout",
          "output_type": "stream",
          "text": "It was the best of times, it was the worst of times, it was the age of wisdom, it was the age of foolishness, it was the epoch of belief, it was the epoch of incredulity, it was the season of light, it was the season of darkness, it was the spring of hope, it was the winter of despair, we had everything before us, we had nothing before us, we were all going direct to heaven, we were all going direct the other way.\n"
        }
      ],
      "source": "# Execute this cell to assign the first line of Dickens' A Tale of Two Cities\n# to a variable s\n\ns = 'It was the best of times, it was the worst of times, it was the age of wisdom, it was the age of foolishness, it was the epoch of belief, it was the epoch of incredulity, it was the season of light, it was the season of darkness, it was the spring of hope, it was the winter of despair, we had everything before us, we had nothing before us, we were all going direct to heaven, we were all going direct the other way.'\nprint(s)"
    },
    {
      "cell_type": "markdown",
      "id": "5901b042",
      "metadata": {},
      "source": "Write Python to print the number of times the word \"the\" occurs in the string `s`.  Any method is acceptable except for the method of counting them yourself and simply printing a number."
    },
    {
      "cell_type": "code",
      "execution_count": 20,
      "id": "e5e6fec8",
      "metadata": {
        "trusted": false
      },
      "outputs": [
        {
          "data": {
            "text/plain": "11"
          },
          "execution_count": 20,
          "metadata": {},
          "output_type": "execute_result"
        }
      ],
      "source": "s.count('the ')"
    },
    {
      "cell_type": "code",
      "execution_count": 21,
      "id": "8e03c870",
      "metadata": {
        "trusted": false
      },
      "outputs": [
        {
          "data": {
            "text/plain": "11"
          },
          "execution_count": 21,
          "metadata": {},
          "output_type": "execute_result"
        }
      ],
      "source": "s.count(' the ')"
    },
    {
      "cell_type": "code",
      "execution_count": 22,
      "id": "490f5dc8",
      "metadata": {
        "trusted": false
      },
      "outputs": [
        {
          "data": {
            "text/plain": "12"
          },
          "execution_count": 22,
          "metadata": {},
          "output_type": "execute_result"
        }
      ],
      "source": "# this gives one too many:\ns.count('the')\n# because it includes the non-word occurence of 'the' inside \"other\""
    },
    {
      "cell_type": "code",
      "execution_count": 23,
      "id": "5072f535",
      "metadata": {
        "trusted": false
      },
      "outputs": [
        {
          "name": "stdout",
          "output_type": "stream",
          "text": "11\n"
        }
      ],
      "source": "count = 0\nfor i in s.split():\n    if i == 'the':\n        count += 1\nprint(count)"
    },
    {
      "cell_type": "markdown",
      "id": "78b12921",
      "metadata": {},
      "source": "Write Python to print the number of commas in the string `s`.  Any method is acceptable except for the method of counting them yourself and simply printing a number."
    },
    {
      "cell_type": "code",
      "execution_count": 24,
      "id": "6f228fb0",
      "metadata": {
        "trusted": false
      },
      "outputs": [
        {
          "data": {
            "text/plain": "13"
          },
          "execution_count": 24,
          "metadata": {},
          "output_type": "execute_result"
        }
      ],
      "source": "s.count(',')"
    },
    {
      "cell_type": "markdown",
      "id": "5f48eada",
      "metadata": {},
      "source": "Print every phrase that starts with \"It was the...\" and ends with a comma.\n* Each phrase should be printed on its own line\n* There should not be any blank lines\n* You should include both \"It was the ...\" and \"it was the...\" phrases"
    },
    {
      "cell_type": "code",
      "execution_count": 25,
      "id": "b8a95b4c",
      "metadata": {
        "trusted": false
      },
      "outputs": [
        {
          "name": "stdout",
          "output_type": "stream",
          "text": "It was the best of times,\nit was the worst of times,\nit was the age of wisdom,\nit was the age of foolishness,\nit was the epoch of belief,\nit was the epoch of incredulity,\nit was the season of light,\nit was the season of darkness,\nit was the spring of hope,\nit was the winter of despair,\n"
        }
      ],
      "source": "s_lower = s.lower()\nsubstring = 'it was the '\nstartindex = 0\nnum_times = s_lower.count(substring)\n\nfor i in range(num_times):\n\n    # find where 'it was the ' starts in the lower-cased-string\n    startindex = s_lower.index(substring, startindex)\n    \n    # find the comma that follows\n    endindex = s.index(',', startindex)\n    \n    # print the phrase from the original string\n    print(s[startindex:endindex+1])\n    \n    # reset startindex so that the next time through the loop,\n    # we find the next phrase\n    startindex = endindex"
    },
    {
      "cell_type": "markdown",
      "id": "fa782a52",
      "metadata": {},
      "source": "# Spotify API\n\nWe will soon be getting data from Spotify to analyze in class.\n\nFor the moment, I just want you to set up an account and credentials for accessing Spotify data.\n\n1. Start by creating a Spotify user account (Premium or Free) if you don't have one. To do that, simply sign up at www.spotify.com\n2. When you have a user account, go to the [Dashboard](https://developer.spotify.com/dashboard) page at the Spotify Developer website and, if necessary, log in. Accept the latest Developer Terms of Service to complete your account set up.\n3. Click on the *Create an App* button.\n4. Enter an *App Name* and *App Description* of your choice, put a tick in the *Developer Terms of Service* checkbox and finally click on *CREATE*. \n5. In the new page for your App, you should see CLIENT ID and the option to SHOW CLIENT SECRET"
    },
    {
      "cell_type": "code",
      "execution_count": null,
      "id": "ff2eac3a",
      "metadata": {
        "trusted": false
      },
      "outputs": [],
      "source": "# Execute this cell to temporarily install the library \"spotipy\"\n!pip install spotipy"
    },
    {
      "cell_type": "code",
      "execution_count": null,
      "id": "87068434",
      "metadata": {
        "trusted": false
      },
      "outputs": [],
      "source": "# To complete this exercise, enter your CLIENT_ID and CLIENT_SECRET\n# in the below lines to replace the values that are currently there.\n# Complete the exercise by executing this cell.\n# The output should print the names of 20 songs related to Bad Bunny.\n\n# I HAVE NOT CHANGED THIS IN THE SOLUTION, BUT YOU CAN REARCH OUT TO ME IF YOU HAVE QUESTIONS\nSPOTIPY_CLIENT_ID = '69ed62cb11654ab4be'\nSPOTIPY_CLIENT_SECRET = 'aaaa11dee3e540ed9'\n\nimport spotipy\nfrom spotipy.oauth2 import SpotifyClientCredentials\n\nsp = spotipy.Spotify(auth_manager=SpotifyClientCredentials(client_id=SPOTIPY_CLIENT_ID,\n                                                          client_secret=SPOTIPY_CLIENT_SECRET))\n\nresults = sp.search(q='Bad Bunny', limit=20)\nfor idx, track in enumerate(results['tracks']['items']):\n    print(idx, track['name'], ' : ', track['artists'][0]['name'])"
    },
    {
      "cell_type": "markdown",
      "id": "109f2afa",
      "metadata": {},
      "source": "## Submit\n\nSubmit this assignment by:\n\n* Saving your work\n* Clicking on the Submit button at the top"
    }
  ],
  "metadata": {
    "kernelspec": {
      "display_name": "Python 3 (ipykernel)",
      "language": "python",
      "name": "python3"
    },
    "language_info": {
      "codemirror_mode": {
        "name": "ipython",
        "version": 3
      },
      "file_extension": ".py",
      "mimetype": "text/x-python",
      "name": "python",
      "nbconvert_exporter": "python",
      "pygments_lexer": "ipython3",
      "version": "3.10.8"
    },
    "nbsimplegrader": {
      "publish_config": {
        "classes": [
          "DH140_23W_bwinjum"
        ],
        "options": {
          "include_submit": false,
          "lock_notebook": false
        },
        "tools": []
      }
    }
  },
  "nbformat": 4,
  "nbformat_minor": 5
}